{
 "cells": [
  {
   "cell_type": "code",
   "execution_count": 19,
   "metadata": {},
   "outputs": [],
   "source": [
    "import os\n",
    "import pandas as pd"
   ]
  },
  {
   "cell_type": "code",
   "execution_count": 20,
   "metadata": {},
   "outputs": [],
   "source": [
    "# WE ASSUME THEY ARE NAMED THE SAME IN BOTH IMG AND LABELS DIR\n",
    "IMG_DIR = '/Users/kuba/Documents/data/raw/face-detection-dataset/images/'\n",
    "LABELS_DIR = '/Users/kuba/Documents/data/raw/face-detection-dataset/labels/' \n",
    "SAVE_DIR = '/Users/kuba/Documents/data/raw/face-detection-dataset'"
   ]
  },
  {
   "cell_type": "code",
   "execution_count": 21,
   "metadata": {},
   "outputs": [],
   "source": [
    "def to_csv(img_dir):\n",
    "    df = pd.DataFrame()\n",
    "    for img in sorted(os.listdir(img_dir)):\n",
    "        name, _ = img.split(\".\")\n",
    "        new_row = {'img':f\"{name}.jpg\", 'label':f\"{name}.txt\"}\n",
    "        df = pd.concat([df, pd.DataFrame([new_row])])\n",
    "    return df"
   ]
  },
  {
   "cell_type": "markdown",
   "metadata": {},
   "source": []
  },
  {
   "cell_type": "code",
   "execution_count": 22,
   "metadata": {},
   "outputs": [
    {
     "name": "stdout",
     "output_type": "stream",
     "text": [
      "Train: 13386 Test: 3347\n"
     ]
    }
   ],
   "source": [
    "train_df = (to_csv(os.path.join(IMG_DIR,'train')))\n",
    "test_df = (to_csv(os.path.join(IMG_DIR,'val')))\n",
    "\n",
    "print(f\"Train: {len(train_df)} Test: {len(test_df)}\")"
   ]
  },
  {
   "cell_type": "code",
   "execution_count": 23,
   "metadata": {},
   "outputs": [
    {
     "data": {
      "text/html": [
       "<div>\n",
       "<style scoped>\n",
       "    .dataframe tbody tr th:only-of-type {\n",
       "        vertical-align: middle;\n",
       "    }\n",
       "\n",
       "    .dataframe tbody tr th {\n",
       "        vertical-align: top;\n",
       "    }\n",
       "\n",
       "    .dataframe thead th {\n",
       "        text-align: right;\n",
       "    }\n",
       "</style>\n",
       "<table border=\"1\" class=\"dataframe\">\n",
       "  <thead>\n",
       "    <tr style=\"text-align: right;\">\n",
       "      <th></th>\n",
       "      <th>img</th>\n",
       "      <th>label</th>\n",
       "    </tr>\n",
       "  </thead>\n",
       "  <tbody>\n",
       "    <tr>\n",
       "      <th>0</th>\n",
       "      <td>00006c07d2b033d1.jpg</td>\n",
       "      <td>00006c07d2b033d1.txt</td>\n",
       "    </tr>\n",
       "    <tr>\n",
       "      <th>0</th>\n",
       "      <td>0000bee39176697a.jpg</td>\n",
       "      <td>0000bee39176697a.txt</td>\n",
       "    </tr>\n",
       "    <tr>\n",
       "      <th>0</th>\n",
       "      <td>0000eda1171fe14e.jpg</td>\n",
       "      <td>0000eda1171fe14e.txt</td>\n",
       "    </tr>\n",
       "    <tr>\n",
       "      <th>0</th>\n",
       "      <td>00090bdd55ec42c3.jpg</td>\n",
       "      <td>00090bdd55ec42c3.txt</td>\n",
       "    </tr>\n",
       "    <tr>\n",
       "      <th>0</th>\n",
       "      <td>000d1eae99343db8.jpg</td>\n",
       "      <td>000d1eae99343db8.txt</td>\n",
       "    </tr>\n",
       "  </tbody>\n",
       "</table>\n",
       "</div>"
      ],
      "text/plain": [
       "                    img                 label\n",
       "0  00006c07d2b033d1.jpg  00006c07d2b033d1.txt\n",
       "0  0000bee39176697a.jpg  0000bee39176697a.txt\n",
       "0  0000eda1171fe14e.jpg  0000eda1171fe14e.txt\n",
       "0  00090bdd55ec42c3.jpg  00090bdd55ec42c3.txt\n",
       "0  000d1eae99343db8.jpg  000d1eae99343db8.txt"
      ]
     },
     "execution_count": 23,
     "metadata": {},
     "output_type": "execute_result"
    }
   ],
   "source": [
    "train_df.head()"
   ]
  },
  {
   "cell_type": "code",
   "execution_count": 24,
   "metadata": {},
   "outputs": [
    {
     "data": {
      "text/html": [
       "<div>\n",
       "<style scoped>\n",
       "    .dataframe tbody tr th:only-of-type {\n",
       "        vertical-align: middle;\n",
       "    }\n",
       "\n",
       "    .dataframe tbody tr th {\n",
       "        vertical-align: top;\n",
       "    }\n",
       "\n",
       "    .dataframe thead th {\n",
       "        text-align: right;\n",
       "    }\n",
       "</style>\n",
       "<table border=\"1\" class=\"dataframe\">\n",
       "  <thead>\n",
       "    <tr style=\"text-align: right;\">\n",
       "      <th></th>\n",
       "      <th>img</th>\n",
       "      <th>label</th>\n",
       "    </tr>\n",
       "  </thead>\n",
       "  <tbody>\n",
       "    <tr>\n",
       "      <th>0</th>\n",
       "      <td>0003d5dfa8f0dd41.jpg</td>\n",
       "      <td>0003d5dfa8f0dd41.txt</td>\n",
       "    </tr>\n",
       "    <tr>\n",
       "      <th>0</th>\n",
       "      <td>0007ad5c6245a41d.jpg</td>\n",
       "      <td>0007ad5c6245a41d.txt</td>\n",
       "    </tr>\n",
       "    <tr>\n",
       "      <th>0</th>\n",
       "      <td>000cc0cd61c6c8d7.jpg</td>\n",
       "      <td>000cc0cd61c6c8d7.txt</td>\n",
       "    </tr>\n",
       "    <tr>\n",
       "      <th>0</th>\n",
       "      <td>001ea8a8ca78a3bc.jpg</td>\n",
       "      <td>001ea8a8ca78a3bc.txt</td>\n",
       "    </tr>\n",
       "    <tr>\n",
       "      <th>0</th>\n",
       "      <td>00430ce61009c131.jpg</td>\n",
       "      <td>00430ce61009c131.txt</td>\n",
       "    </tr>\n",
       "  </tbody>\n",
       "</table>\n",
       "</div>"
      ],
      "text/plain": [
       "                    img                 label\n",
       "0  0003d5dfa8f0dd41.jpg  0003d5dfa8f0dd41.txt\n",
       "0  0007ad5c6245a41d.jpg  0007ad5c6245a41d.txt\n",
       "0  000cc0cd61c6c8d7.jpg  000cc0cd61c6c8d7.txt\n",
       "0  001ea8a8ca78a3bc.jpg  001ea8a8ca78a3bc.txt\n",
       "0  00430ce61009c131.jpg  00430ce61009c131.txt"
      ]
     },
     "execution_count": 24,
     "metadata": {},
     "output_type": "execute_result"
    }
   ],
   "source": [
    "test_df.head()"
   ]
  },
  {
   "cell_type": "code",
   "execution_count": 25,
   "metadata": {},
   "outputs": [],
   "source": [
    "train_df.to_csv(os.path.join(SAVE_DIR,\"train.csv\"), index=False)\n",
    "test_df.to_csv(os.path.join(SAVE_DIR,\"test.csv\"), index=False)"
   ]
  }
 ],
 "metadata": {
  "kernelspec": {
   "display_name": "base",
   "language": "python",
   "name": "python3"
  },
  "language_info": {
   "codemirror_mode": {
    "name": "ipython",
    "version": 3
   },
   "file_extension": ".py",
   "mimetype": "text/x-python",
   "name": "python",
   "nbconvert_exporter": "python",
   "pygments_lexer": "ipython3",
   "version": "3.10.12"
  }
 },
 "nbformat": 4,
 "nbformat_minor": 2
}
