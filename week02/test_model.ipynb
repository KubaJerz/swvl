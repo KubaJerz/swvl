{
 "cells": [
  {
   "cell_type": "code",
   "execution_count": null,
   "metadata": {},
   "outputs": [],
   "source": [
    "import torch\n",
    "import torch.nn as nn\n",
    "import torchvision.models as models\n",
    "\n",
    "class RegHead(nn.Module):\n",
    "    def __init__(self,in_channels, S, B, dropout=0.0):\n",
    "        super().__init__()\n",
    "        self.conv0 = nn.Conv2d(in_channels, 1024, 3, padding=1)\n",
    "        self.conv1 = nn.Conv2d(1024, 1024, 3, padding=1)\n",
    "        self.conv2 = nn.Conv2d(1024, 1024, 3, padding=1)\n",
    "        self.conv3 = nn.Conv2d(1024, 1024, 3, padding=1)\n",
    "\n",
    "        self.l0 = nn.Linear((1024 * S * S), 4096)\n",
    "        self.drop = nn.Dropout(dropout)\n",
    "        self.act = nn.LeakyReLU(0.1)\n",
    "        self.l1 = nn.Linear(4096, (S * S * (B * 5)))\n",
    "\n",
    "    def forward(self, x):\n",
    "        x = self.conv0(x)\n",
    "        x = self.conv1(x)\n",
    "        x = self.conv2(x)\n",
    "        x = self.conv3(x)\n",
    "\n",
    "        x = x.flatten(start_dim=1)\n",
    "        x = self.l0(x)\n",
    "        x = self.drop(x)\n",
    "        x = self.act(x)\n",
    "        x = self.l1(x)\n",
    "        return x\n",
    "\n",
    "\n",
    "\n",
    "\n",
    "class FaceDetector(nn.Module):\n",
    "    def __init__(self, S=7, B=9):\n",
    "        super(FaceDetector, self).__init__()\n",
    "\n",
    "        backbone = models.resnet50(pretrained=True)\n",
    "        self.backbone = torch.nn.Sequential(*(list(backbone.children())[:-2]))\n",
    "        \n",
    "        self.regression_head = RegHead(2048, S, B)\n",
    "    \n",
    "    def forward(self, x):\n",
    "        features = self.backbone(x)\n",
    "        out = self.regression_head(features)\n",
    "        return out"
   ]
  },
  {
   "cell_type": "code",
   "execution_count": 18,
   "metadata": {},
   "outputs": [
    {
     "data": {
      "text/plain": [
       "torch.Size([32, 3, 224, 224])"
      ]
     },
     "execution_count": 18,
     "metadata": {},
     "output_type": "execute_result"
    }
   ],
   "source": [
    "x = torch.rand((32,3,224,224))\n",
    "x.shape"
   ]
  },
  {
   "cell_type": "code",
   "execution_count": 19,
   "metadata": {},
   "outputs": [
    {
     "name": "stderr",
     "output_type": "stream",
     "text": [
      "/home/kuba/.virenv/base/lib/python3.10/site-packages/torchvision/models/_utils.py:208: UserWarning: The parameter 'pretrained' is deprecated since 0.13 and may be removed in the future, please use 'weights' instead.\n",
      "  warnings.warn(\n",
      "/home/kuba/.virenv/base/lib/python3.10/site-packages/torchvision/models/_utils.py:223: UserWarning: Arguments other than a weight enum or `None` for 'weights' are deprecated since 0.13 and may be removed in the future. The current behavior is equivalent to passing `weights=ResNet50_Weights.IMAGENET1K_V1`. You can also use `weights=ResNet50_Weights.DEFAULT` to get the most up-to-date weights.\n",
      "  warnings.warn(msg)\n"
     ]
    }
   ],
   "source": [
    "model= FaceDetector()"
   ]
  },
  {
   "cell_type": "code",
   "execution_count": 20,
   "metadata": {},
   "outputs": [
    {
     "name": "stdout",
     "output_type": "stream",
     "text": [
      "torch.Size([32, 50176])\n"
     ]
    },
    {
     "data": {
      "text/plain": [
       "torch.Size([32, 2205])"
      ]
     },
     "execution_count": 20,
     "metadata": {},
     "output_type": "execute_result"
    }
   ],
   "source": [
    "model(x).shape\n"
   ]
  }
 ],
 "metadata": {
  "kernelspec": {
   "display_name": "base",
   "language": "python",
   "name": "python3"
  },
  "language_info": {
   "codemirror_mode": {
    "name": "ipython",
    "version": 3
   },
   "file_extension": ".py",
   "mimetype": "text/x-python",
   "name": "python",
   "nbconvert_exporter": "python",
   "pygments_lexer": "ipython3",
   "version": "3.10.12"
  }
 },
 "nbformat": 4,
 "nbformat_minor": 2
}
