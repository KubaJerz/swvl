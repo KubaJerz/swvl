{
 "cells": [
  {
   "cell_type": "code",
   "execution_count": 18,
   "metadata": {},
   "outputs": [],
   "source": [
    "import torch\n",
    "import os\n",
    "from torch.utils.data import Dataset, ConcatDataset\n",
    "from yoloy_dataset import YoloDataset"
   ]
  },
  {
   "cell_type": "code",
   "execution_count": null,
   "metadata": {},
   "outputs": [],
   "source": [
    "\n",
    "# class YoloDataset(Dataset):\n",
    "#     def __init__(self, path, S=7, B=2, C = 0):\n",
    "#         super().__init__()\n",
    "#         self.X , self.y = torch.load(path)\n",
    "#         self.S = S\n",
    "#         self.B = B\n",
    "#         self.C = C\n",
    "\n",
    "#     def __len__(self):\n",
    "#         return len(self.X)\n",
    "    \n",
    "#     def __getitem__(self, index):\n",
    "#         image = self.X\n",
    "#         boxes = self.y\n",
    "#         labels = torch.zeros((self.S, self.S, self.C + 5))\n",
    "        \n",
    "#         # single box \n",
    "#         if boxes.dim() == 1 and len(boxes) == 4:\n",
    "#             x, y, w, h = boxes.tolist()\n",
    "#             i, j = int(self.S * y), int(self.S * x)\n",
    "#             x_cell, y_cell = self.S * x - j, self.S * y - i\n",
    "#             w_cell, h_cell = w * self.S, h * self.S\n",
    "            \n",
    "#             if labels[i, j, 0] == 0:\n",
    "#                 labels[i, j, 0] = 1\n",
    "#                 labels[i, j, 1:5] = torch.tensor([x_cell, y_cell, w_cell, h_cell])\n",
    "#         # multiple boxes\n",
    "#         # elif boxes.dim() > 1:\n",
    "#         #     for unscaled_box in boxes:\n",
    "#         #         x, y, w, h = unscaled_box.tolist()\n",
    "#         #         i, j = int(self.S * y), int(self.S * x)\n",
    "#         #         x_cell, y_cell = self.S * x - j, self.S * y - i\n",
    "#         #         w_cell, h_cell = w * self.S, h * self.S\n",
    "                \n",
    "#         #         if labels[i, j, 0] == 0:\n",
    "#         #             labels[i, j, 0] = 1\n",
    "#         #             labels[i, j, 1:5] = torch.tensor([x_cell, y_cell, w_cell, h_cell])\n",
    "#         print(image.shape)\n",
    "#         return image, labels"
   ]
  },
  {
   "cell_type": "code",
   "execution_count": 19,
   "metadata": {},
   "outputs": [],
   "source": [
    "PATH = '/Users/kuba/Documents/data/raw/single-face-tensors/train'\n",
    "all_train_datasets = []\n",
    "i = 0\n",
    "for file in sorted(os.listdir(PATH)):\n",
    "    i += 1\n",
    "    try:\n",
    "        dataset = YoloDataset((PATH+\"/\"+file))\n",
    "        all_train_datasets.append(dataset)\n",
    "    except Exception as e:\n",
    "        print(f\"Error loading {file}: {str(e)}\")\n",
    "        continue\n",
    "\n",
    "combined = ConcatDataset(all_train_datasets)"
   ]
  },
  {
   "cell_type": "code",
   "execution_count": 20,
   "metadata": {},
   "outputs": [
    {
     "data": {
      "text/plain": [
       "5791"
      ]
     },
     "execution_count": 20,
     "metadata": {},
     "output_type": "execute_result"
    }
   ],
   "source": [
    "i"
   ]
  },
  {
   "cell_type": "code",
   "execution_count": 21,
   "metadata": {},
   "outputs": [
    {
     "data": {
      "text/plain": [
       "torch.Tensor"
      ]
     },
     "execution_count": 21,
     "metadata": {},
     "output_type": "execute_result"
    }
   ],
   "source": [
    "type(all_train_datasets[1].X)"
   ]
  },
  {
   "cell_type": "code",
   "execution_count": 22,
   "metadata": {},
   "outputs": [
    {
     "data": {
      "text/plain": [
       "False"
      ]
     },
     "execution_count": 22,
     "metadata": {},
     "output_type": "execute_result"
    }
   ],
   "source": [
    "torch.equal(all_train_datasets[1].X, all_train_datasets[0].X)"
   ]
  },
  {
   "cell_type": "code",
   "execution_count": 23,
   "metadata": {},
   "outputs": [],
   "source": [
    "one_and_two = ConcatDataset(all_train_datasets[:2])"
   ]
  },
  {
   "cell_type": "code",
   "execution_count": 24,
   "metadata": {},
   "outputs": [
    {
     "data": {
      "text/plain": [
       "2"
      ]
     },
     "execution_count": 24,
     "metadata": {},
     "output_type": "execute_result"
    }
   ],
   "source": [
    "len(one_and_two)"
   ]
  },
  {
   "cell_type": "code",
   "execution_count": 25,
   "metadata": {},
   "outputs": [
    {
     "data": {
      "text/plain": [
       "False"
      ]
     },
     "execution_count": 25,
     "metadata": {},
     "output_type": "execute_result"
    }
   ],
   "source": [
    "x4, _ = one_and_two[0]\n",
    "x5, _ = one_and_two[1]\n",
    "torch.equal(x4, x5)"
   ]
  },
  {
   "cell_type": "code",
   "execution_count": 27,
   "metadata": {},
   "outputs": [
    {
     "data": {
      "text/plain": [
       "1.0"
      ]
     },
     "execution_count": 27,
     "metadata": {},
     "output_type": "execute_result"
    }
   ],
   "source": [
    "len(combined) / i"
   ]
  },
  {
   "cell_type": "code",
   "execution_count": 28,
   "metadata": {},
   "outputs": [
    {
     "data": {
      "text/plain": [
       "True"
      ]
     },
     "execution_count": 28,
     "metadata": {},
     "output_type": "execute_result"
    }
   ],
   "source": [
    "x0, y0 = combined[0]\n",
    "x1, y1 = combined[0]\n",
    "\n",
    "torch.equal(x0, x1)"
   ]
  },
  {
   "cell_type": "code",
   "execution_count": 29,
   "metadata": {},
   "outputs": [],
   "source": [
    "sample = '/Users/kuba/Documents/data/raw/single-face-tensors/train/1253221dcb65bd1d.pt'\n",
    "X, y = torch.load(sample)"
   ]
  },
  {
   "cell_type": "code",
   "execution_count": 30,
   "metadata": {},
   "outputs": [
    {
     "data": {
      "text/plain": [
       "(torch.Size([3, 224, 224]), torch.Size([4]))"
      ]
     },
     "execution_count": 30,
     "metadata": {},
     "output_type": "execute_result"
    }
   ],
   "source": [
    "X.shape, y.shape"
   ]
  },
  {
   "cell_type": "code",
   "execution_count": 31,
   "metadata": {},
   "outputs": [],
   "source": [
    "dataset = YoloDataset(sample)\n",
    "sig = dataset[0]"
   ]
  },
  {
   "cell_type": "code",
   "execution_count": 32,
   "metadata": {},
   "outputs": [],
   "source": [
    "x,y = sig"
   ]
  },
  {
   "cell_type": "code",
   "execution_count": 33,
   "metadata": {},
   "outputs": [
    {
     "data": {
      "text/plain": [
       "torch.Size([7, 7, 5])"
      ]
     },
     "execution_count": 33,
     "metadata": {},
     "output_type": "execute_result"
    }
   ],
   "source": [
    "y.shape"
   ]
  },
  {
   "cell_type": "code",
   "execution_count": 34,
   "metadata": {},
   "outputs": [
    {
     "data": {
      "text/plain": [
       "torch.Size([3, 224, 224])"
      ]
     },
     "execution_count": 34,
     "metadata": {},
     "output_type": "execute_result"
    }
   ],
   "source": [
    "X.shape"
   ]
  }
 ],
 "metadata": {
  "kernelspec": {
   "display_name": "base",
   "language": "python",
   "name": "python3"
  },
  "language_info": {
   "codemirror_mode": {
    "name": "ipython",
    "version": 3
   },
   "file_extension": ".py",
   "mimetype": "text/x-python",
   "name": "python",
   "nbconvert_exporter": "python",
   "pygments_lexer": "ipython3",
   "version": "3.11.5"
  }
 },
 "nbformat": 4,
 "nbformat_minor": 2
}
