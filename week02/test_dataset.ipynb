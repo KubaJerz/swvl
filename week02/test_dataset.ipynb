{
 "cells": [
  {
   "cell_type": "code",
   "execution_count": 20,
   "metadata": {},
   "outputs": [],
   "source": [
    "import torch\n",
    "import os"
   ]
  },
  {
   "cell_type": "code",
   "execution_count": 21,
   "metadata": {},
   "outputs": [],
   "source": [
    "from torch.utils.data import Dataset, ConcatDataset\n",
    "\n",
    "class YoloDataset(Dataset):\n",
    "    def __init__(self, path, S=7, B=2, C = 0):\n",
    "        super().__init__()\n",
    "        self.X , self.y = torch.load(path)\n",
    "        self.S = S\n",
    "        self.B = B\n",
    "        self.C = C\n",
    "\n",
    "    def __len__(self):\n",
    "        return len(self.X)\n",
    "    \n",
    "    def __getitem__(self, index):\n",
    "        image = self.X\n",
    "        boxes = self.y\n",
    "        labels = torch.zeros((self.S, self.S, self.C + 5))\n",
    "        \n",
    "        # single box \n",
    "        if boxes.dim() == 1 and len(boxes) == 4:\n",
    "            x, y, w, h = boxes.tolist()\n",
    "            i, j = int(self.S * y), int(self.S * x)\n",
    "            x_cell, y_cell = self.S * x - j, self.S * y - i\n",
    "            w_cell, h_cell = w * self.S, h * self.S\n",
    "            \n",
    "            if labels[i, j, 0] == 0:\n",
    "                labels[i, j, 0] = 1\n",
    "                labels[i, j, 1:5] = torch.tensor([x_cell, y_cell, w_cell, h_cell])\n",
    "        # multiple boxes\n",
    "        elif boxes.dim() > 1:\n",
    "            for unscaled_box in boxes:\n",
    "                x, y, w, h = unscaled_box.tolist()\n",
    "                i, j = int(self.S * y), int(self.S * x)\n",
    "                x_cell, y_cell = self.S * x - j, self.S * y - i\n",
    "                w_cell, h_cell = w * self.S, h * self.S\n",
    "                \n",
    "                if labels[i, j, 0] == 0:\n",
    "                    labels[i, j, 0] = 1\n",
    "                    labels[i, j, 1:5] = torch.tensor([x_cell, y_cell, w_cell, h_cell])\n",
    "        \n",
    "        return image, labels"
   ]
  },
  {
   "cell_type": "code",
   "execution_count": 22,
   "metadata": {},
   "outputs": [],
   "source": [
    "PATH = '/home/kuba/Documents/data/raw/single-face-tensors/train'\n",
    "all_train_datasets = []\n",
    "\n",
    "for file in sorted(os.listdir(PATH)):\n",
    "    try:\n",
    "        dataset = YoloDataset((PATH+\"/\"+file))\n",
    "        all_train_datasets.append(dataset)\n",
    "    except Exception as e:\n",
    "        print(f\"Error loading {file}: {str(e)}\")\n",
    "        continue\n",
    "\n",
    "combined = ConcatDataset(all_train_datasets)"
   ]
  },
  {
   "cell_type": "code",
   "execution_count": 23,
   "metadata": {},
   "outputs": [],
   "source": [
    "sample = '/home/kuba/Documents/data/raw/single-face-tensors/train/1253221dcb65bd1d.pt'\n",
    "X, y = torch.load(sample)"
   ]
  },
  {
   "cell_type": "code",
   "execution_count": 24,
   "metadata": {},
   "outputs": [
    {
     "data": {
      "text/plain": [
       "(torch.Size([3, 224, 224]), torch.Size([4]))"
      ]
     },
     "execution_count": 24,
     "metadata": {},
     "output_type": "execute_result"
    }
   ],
   "source": [
    "X.shape, y.shape"
   ]
  },
  {
   "cell_type": "code",
   "execution_count": 25,
   "metadata": {},
   "outputs": [],
   "source": [
    "dataset = YoloDataset(sample)\n",
    "sig = dataset[0]"
   ]
  },
  {
   "cell_type": "code",
   "execution_count": 26,
   "metadata": {},
   "outputs": [],
   "source": [
    "x,y = sig"
   ]
  },
  {
   "cell_type": "code",
   "execution_count": 29,
   "metadata": {},
   "outputs": [
    {
     "data": {
      "text/plain": [
       "torch.Size([7, 7, 5])"
      ]
     },
     "execution_count": 29,
     "metadata": {},
     "output_type": "execute_result"
    }
   ],
   "source": [
    "y.shape"
   ]
  },
  {
   "cell_type": "code",
   "execution_count": 28,
   "metadata": {},
   "outputs": [
    {
     "data": {
      "text/plain": [
       "torch.Size([3, 224, 224])"
      ]
     },
     "execution_count": 28,
     "metadata": {},
     "output_type": "execute_result"
    }
   ],
   "source": [
    "X.shape"
   ]
  }
 ],
 "metadata": {
  "kernelspec": {
   "display_name": "base",
   "language": "python",
   "name": "python3"
  },
  "language_info": {
   "codemirror_mode": {
    "name": "ipython",
    "version": 3
   },
   "file_extension": ".py",
   "mimetype": "text/x-python",
   "name": "python",
   "nbconvert_exporter": "python",
   "pygments_lexer": "ipython3",
   "version": "3.10.12"
  }
 },
 "nbformat": 4,
 "nbformat_minor": 2
}
