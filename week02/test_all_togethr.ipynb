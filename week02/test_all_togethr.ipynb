{
 "cells": [
  {
   "cell_type": "code",
   "execution_count": 2,
   "metadata": {},
   "outputs": [],
   "source": [
    "import torch\n",
    "import torch.nn as nn\n",
    "from torch.utils.data import ConcatDataset, DataLoader, Subset\n",
    "import torchvision.ops as ops\n",
    "from model import FaceDetector\n",
    "from yoloy_dataset import YoloDataset\n",
    "from loss import Yolo_Loss\n",
    "import os\n",
    "from tqdm import tqdm\n",
    "import matplotlib.pyplot as plt"
   ]
  },
  {
   "cell_type": "code",
   "execution_count": 3,
   "metadata": {},
   "outputs": [
    {
     "name": "stderr",
     "output_type": "stream",
     "text": [
      "/home/kuba/.virenv/base/lib/python3.10/site-packages/torchvision/models/_utils.py:208: UserWarning: The parameter 'pretrained' is deprecated since 0.13 and may be removed in the future, please use 'weights' instead.\n",
      "  warnings.warn(\n",
      "/home/kuba/.virenv/base/lib/python3.10/site-packages/torchvision/models/_utils.py:223: UserWarning: Arguments other than a weight enum or `None` for 'weights' are deprecated since 0.13 and may be removed in the future. The current behavior is equivalent to passing `weights=ResNet50_Weights.IMAGENET1K_V1`. You can also use `weights=ResNet50_Weights.DEFAULT` to get the most up-to-date weights.\n",
      "  warnings.warn(msg)\n"
     ]
    }
   ],
   "source": [
    "model = FaceDetector()"
   ]
  },
  {
   "cell_type": "code",
   "execution_count": 4,
   "metadata": {},
   "outputs": [],
   "source": [
    "for param in model.backbone.parameters():\n",
    "    param.requires_grad = False"
   ]
  },
  {
   "cell_type": "code",
   "execution_count": 5,
   "metadata": {},
   "outputs": [],
   "source": [
    "PATH = '/home/kuba/Documents/data/raw/single-face-tensors/train'\n",
    "all_train_datasets = []\n",
    "\n",
    "for file in sorted(os.listdir(PATH)):\n",
    "    try:\n",
    "        dataset = YoloDataset((PATH+\"/\"+file))\n",
    "        all_train_datasets.append(dataset)\n",
    "    except Exception as e:\n",
    "        print(f\"Error loading {file}: {str(e)}\")\n",
    "        continue\n",
    "\n",
    "combined = ConcatDataset(all_train_datasets)"
   ]
  },
  {
   "cell_type": "code",
   "execution_count": 6,
   "metadata": {},
   "outputs": [
    {
     "name": "stderr",
     "output_type": "stream",
     "text": [
      "/home/kuba/.virenv/base/lib/python3.10/site-packages/torch/nn/_reduction.py:42: UserWarning: size_average and reduce args will be deprecated, please use reduction='mean' instead.\n",
      "  warnings.warn(warning.format(ret))\n"
     ]
    }
   ],
   "source": [
    "optimizer = torch.optim.Adam(model.regression_head.parameters(), lr=0.0003) #, weight_decay=0.0005)\n",
    "criterion = Yolo_Loss()"
   ]
  },
  {
   "cell_type": "code",
   "execution_count": 7,
   "metadata": {},
   "outputs": [
    {
     "data": {
      "text/plain": [
       "17373"
      ]
     },
     "execution_count": 7,
     "metadata": {},
     "output_type": "execute_result"
    }
   ],
   "source": [
    "len(combined)"
   ]
  },
  {
   "cell_type": "code",
   "execution_count": 8,
   "metadata": {},
   "outputs": [],
   "source": [
    "train_indices = list(range(14000))\n",
    "dev_indices = list(range(14000, len(combined)))\n",
    "\n",
    "# Create Subset datasets\n",
    "train_dataset = Subset(combined, train_indices)\n",
    "dev_dataset = Subset(combined, dev_indices)\n",
    "\n",
    "# Create DataLoaders\n",
    "train_loader = DataLoader(train_dataset, batch_size=64)\n",
    "dev_loader = DataLoader(dev_dataset, batch_size=64)"
   ]
  },
  {
   "cell_type": "code",
   "execution_count": 9,
   "metadata": {},
   "outputs": [],
   "source": [
    "lossi = []\n",
    "dev_lossi = []"
   ]
  },
  {
   "cell_type": "code",
   "execution_count": 10,
   "metadata": {},
   "outputs": [],
   "source": [
    "device = 'cuda:1'\n",
    "model = model.to(device)"
   ]
  },
  {
   "cell_type": "code",
   "execution_count": 11,
   "metadata": {},
   "outputs": [
    {
     "name": "stderr",
     "output_type": "stream",
     "text": [
      "100%|██████████| 1/1 [00:27<00:00, 27.10s/it]\n"
     ]
    }
   ],
   "source": [
    "for epoch in tqdm(range(1)):\n",
    "    loss_total = 0\n",
    "    model.train()\n",
    "    for X_batch, y_batch in train_loader:\n",
    "        X_batch, y_batch = X_batch.to(device), y_batch.to(device)\n",
    "        logits = model(X_batch)\n",
    "        loss = criterion(logits, y_batch)\n",
    "        optimizer.zero_grad()\n",
    "        loss.backward()\n",
    "        optimizer.step()\n",
    "        loss_total += loss.item()\n",
    "    lossi.append(loss_total / len(train_loader))\n",
    "\n",
    "    dev_loss_total = 0\n",
    "    model.eval()\n",
    "    with torch.no_grad():\n",
    "        for X_dev, y_dev in dev_loader:\n",
    "            X_dev, y_dev = X_dev.to(device), y_dev.to(device)\n",
    "            dev_logits = model(X_dev)\n",
    "            dev_loss = criterion(dev_logits, y_dev)\n",
    "            dev_loss_total += dev_loss.item()\n",
    "\n",
    "    dev_lossi.append(dev_loss_total/ len(dev_loader))\n",
    "\n",
    "\n"
   ]
  },
  {
   "cell_type": "code",
   "execution_count": 30,
   "metadata": {},
   "outputs": [
    {
     "data": {
      "text/plain": [
       "torch.Size([45, 490])"
      ]
     },
     "execution_count": 30,
     "metadata": {},
     "output_type": "execute_result"
    }
   ],
   "source": [
    "dev_logits.shape"
   ]
  },
  {
   "cell_type": "code",
   "execution_count": 12,
   "metadata": {},
   "outputs": [
    {
     "data": {
      "text/plain": [
       "[5801.752934247936]"
      ]
     },
     "execution_count": 12,
     "metadata": {},
     "output_type": "execute_result"
    }
   ],
   "source": [
    "lossi"
   ]
  },
  {
   "cell_type": "code",
   "execution_count": 13,
   "metadata": {},
   "outputs": [
    {
     "data": {
      "text/plain": [
       "[<matplotlib.lines.Line2D at 0x70f36abb8490>]"
      ]
     },
     "execution_count": 13,
     "metadata": {},
     "output_type": "execute_result"
    },
    {
     "data": {
      "image/png": "[encoded data removed]",
      "text/plain": [
       "<Figure size 640x480 with 1 Axes>"
      ]
     },
     "metadata": {},
     "output_type": "display_data"
    }
   ],
   "source": [
    "plt.plot(lossi[1:])\n",
    "plt.plot(dev_lossi[1:])"
   ]
  },
  {
   "cell_type": "code",
   "execution_count": 14,
   "metadata": {},
   "outputs": [],
   "source": [
    "prediction = dev_logits.view(-1, 7, 7, 10)"
   ]
  },
  {
   "cell_type": "code",
   "execution_count": 15,
   "metadata": {},
   "outputs": [],
   "source": [
    "# for group in optimizer.param_groups:\n",
    "#     group['lr'] = 0.000006"
   ]
  },
  {
   "cell_type": "code",
   "execution_count": 16,
   "metadata": {},
   "outputs": [],
   "source": [
    "# torch.save(model.state_dict(), 'pp00.pt')"
   ]
  },
  {
   "cell_type": "code",
   "execution_count": 17,
   "metadata": {},
   "outputs": [],
   "source": [
    "def yolo_label_to_cxcywh(label, img_size, S=7, absolute_pixl_values=False):\n",
    "    #we assume imput size to be (S x S x 5)\n",
    "    all_converted = []\n",
    "    img_w, img_h = img_size\n",
    "    cell_w, cell_h =  img_w/S, img_h/S\n",
    "    for row in range(S):\n",
    "        for col in range(S):\n",
    "            #if its a bbox then confidace will be 1\n",
    "            if label[row][col][0] == 1: \n",
    "                relative_x, relative_y = label[row][col][1], label[row][col][2]\n",
    "                relative_w, relative_h = label[row][col][3], label[row][col][4]\n",
    "\n",
    "                #these are in absolute pxl values not 0-1\n",
    "                true_x = (col + relative_x) * cell_w\n",
    "                true_y = (row + relative_y) * cell_h\n",
    "                true_w = relative_w * cell_w\n",
    "                true_h = relative_h * cell_h\n",
    "\n",
    "                if absolute_pixl_values:\n",
    "                    all_converted.append(torch.tensor([1, true_x, true_y, true_w, true_h]))\n",
    "                else:\n",
    "                #to make it 0-1\n",
    "                    all_converted.append(torch.tensor([1, true_x/img_w, true_y/img_h, true_w/img_w, true_h/img_h]))\n",
    "                    \n",
    "    return torch.stack(all_converted)"
   ]
  },
  {
   "cell_type": "code",
   "execution_count": 18,
   "metadata": {},
   "outputs": [],
   "source": [
    "def yolo_labels_to_xyxy(labels, S=7):\n",
    "    #we assume imput size to be (BatchSize x S x S x 5)\n",
    "    all_converted = []    \n",
    "    for label in labels:\n",
    "        batch_converted = []\n",
    "        for row in range(S):\n",
    "            for col in range(S):\n",
    "                #if its a bbox then confidace will be 1\n",
    "                if label[row][col][0] == 1: \n",
    "                    relative_x, relative_y = label[row][col][1], label[row][col][2]\n",
    "                    relative_w, relative_h = label[row][col][3], label[row][col][4]\n",
    "\n",
    "                    x_img = (col + relative_x) / S\n",
    "                    y_img = (row + relative_y) / S\n",
    "                    w_img = relative_w / S\n",
    "                    h_img = relative_h / S\n",
    "                    \n",
    "                    x1 = x_img - w_img / 2\n",
    "                    y1 = y_img - h_img / 2\n",
    "                    x2 = x_img + w_img / 2\n",
    "                    y2 = y_img + h_img / 2\n",
    "\n",
    "\n",
    "                    batch_converted.append(torch.tensor([1, x1, y1, x2, y2]))\n",
    "                        \n",
    "        all_converted.append(torch.stack(batch_converted))\n",
    "    return all_converted"
   ]
  },
  {
   "cell_type": "code",
   "execution_count": 19,
   "metadata": {},
   "outputs": [],
   "source": [
    "def non_max_supp(preds, confidence_threshold = 0.35, iou_threshold=0.5, S=7, return_type='xywh'):\n",
    "    batch_size = preds.shape[0]\n",
    "    all_res = []\n",
    "\n",
    "\n",
    "    for i in range(batch_size):\n",
    "        pred = preds[i]\n",
    "\n",
    "        all_scores = []\n",
    "        all_boxes_xyxy = []\n",
    "        all_boxes_xywh = []\n",
    "        for row in range(S):\n",
    "            for col in range(S):\n",
    "\n",
    "                if pred[row, col][0] < confidence_threshold:\n",
    "                    continue\n",
    "\n",
    "\n",
    "                x_cell, y_cell, w_cell, h_cell = pred[row, col][1:5]\n",
    "                \n",
    "                x_img = (col + x_cell) / S\n",
    "                y_img = (row + y_cell) / S\n",
    "                w_img = w_cell / S\n",
    "                h_img = h_cell / S\n",
    "                \n",
    "                x1 = x_img - w_img / 2\n",
    "                y1 = y_img - h_img / 2\n",
    "                x2 = x_img + w_img / 2\n",
    "                y2 = y_img + h_img / 2\n",
    "\n",
    "                all_scores.append(pred[row, col][0])\n",
    "                all_boxes_xyxy.append(torch.tensor((x1,y1,x2,y2))) #for the nms calculation\n",
    "                all_boxes_xywh.append(torch.tensor((x_img,y_img,w_img,h_img))) #for we will use to plot easy later\n",
    "\n",
    "        #if no prediction has highenough confidace then we get rid of it\n",
    "        if len(all_boxes_xyxy) == 0:\n",
    "            all_res.append(torch.tensor([]))\n",
    "            continue\n",
    "\n",
    "        #here we get the idx of the valid boxes after non max suppreshion\n",
    "        res = ops.nms(torch.stack(all_boxes_xyxy), torch.stack(all_scores), iou_threshold=iou_threshold)\n",
    "        # for each of the idx we combine now with confidacne  \n",
    "        if return_type == 'xywh':\n",
    "            keep_boxes = [ torch.cat((all_scores[idx].unsqueeze(0), all_boxes_xywh[idx][:])) for idx in res]\n",
    "        elif return_type == 'xyxy':\n",
    "            keep_boxes = [ torch.cat((all_scores[idx].unsqueeze(0), all_boxes_xyxy[idx][:])) for idx in res]\n",
    "        #we append to the total preds list for each batch\n",
    "        all_res.append(torch.stack(keep_boxes))\n",
    "        \n",
    "    return all_res"
   ]
  },
  {
   "cell_type": "code",
   "execution_count": 20,
   "metadata": {},
   "outputs": [],
   "source": [
    "res  = non_max_supp(prediction.detach().cpu(), return_type='xyxy')"
   ]
  },
  {
   "cell_type": "code",
   "execution_count": 21,
   "metadata": {},
   "outputs": [],
   "source": [
    "def plot_post_non_max(img, preds, preds_type='cx,cy,w,h', labels=[], labels_type='cx,cy,w,h'):\n",
    "    img = img.permute(1, 2, 0) #to go from (3 x W x H) to (W x H x 3)\n",
    "    plt.figure(figsize=(8, 8))\n",
    "    plt.imshow(img)\n",
    "    img_w, img_h = img.shape[:2]\n",
    "\n",
    "    def plot_cxcywh_style(labels, img_w, img_h, color, marker='ro', show_confidance=False):\n",
    "         for label in labels:\n",
    "            confidance, center_x, center_y, width, height = label\n",
    "            center_x, center_y, width, height = int(center_x * img_w), int(center_y * img_h), int(width * img_w), int(height * img_h)\n",
    "            xmin = center_x - width/2\n",
    "            xmax = center_x + width/2\n",
    "            ymin = center_y - height/2\n",
    "            ymax = center_y + height/2\n",
    "            \n",
    "            #  center and text\n",
    "            if show_confidance:\n",
    "                plt.text(center_x, center_y, f\"{confidance.item():.3f}\", bbox=dict(facecolor='white', alpha=0.35, boxstyle='round'), fontsize=8)\n",
    "            plt.plot(center_x, center_y, marker)\n",
    "\n",
    "            \n",
    "            # (horizontal lines)\n",
    "            plt.hlines(ymin, xmin=xmin, xmax=xmax, colors=color)\n",
    "            plt.hlines(ymax, xmin=xmin, xmax=xmax, colors=color)\n",
    "            \n",
    "            # (vertical lines)\n",
    "            plt.vlines(xmin, ymin=ymin, ymax=ymax, colors=color)\n",
    "            plt.vlines(xmax, ymin=ymin, ymax=ymax, colors=color)\n",
    "         \n",
    "\n",
    "    if preds_type == 'cx,cy,w,h':\n",
    "        plot_cxcywh_style(preds, img_w, img_h, 'red', 'ro', True)\n",
    "\n",
    "    if len(labels) != 0 and labels_type == 'cx,cy,w,h':\n",
    "        plot_cxcywh_style(labels, img_w, img_h, 'green', 'g1')\n",
    "    \n",
    "    plt.axis('off')\n",
    "    plt.show()"
   ]
  },
  {
   "cell_type": "code",
   "execution_count": 22,
   "metadata": {},
   "outputs": [
    {
     "name": "stderr",
     "output_type": "stream",
     "text": [
      "Clipping input data to the valid range for imshow with RGB data ([0..1] for floats or [0..255] for integers). Got range [-2.117904..2.6271143].\n"
     ]
    },
    {
     "data": {
      "image/png": "[encoded data removed]",
      "text/plain": [
       "<Figure size 800x800 with 1 Axes>"
      ]
     },
     "metadata": {},
     "output_type": "display_data"
    }
   ],
   "source": [
    "idx = 9\n",
    "plot_post_non_max(X_dev[idx].cpu(), res[idx], labels=yolo_label_to_cxcywh(y_dev[idx], (224,224)))"
   ]
  },
  {
   "cell_type": "code",
   "execution_count": 23,
   "metadata": {},
   "outputs": [],
   "source": [
    "y_dev_xyxy = yolo_labels_to_xyxy(y_dev)"
   ]
  },
  {
   "cell_type": "code",
   "execution_count": 24,
   "metadata": {},
   "outputs": [],
   "source": [
    "import numpy as np\n",
    "import torch\n",
    "import torchvision.ops as ops\n",
    "\n",
    "def mAP(preds, labels, iou_start=0.5, iou_stop=0.95, iou_step=0.05):\n",
    "    # expected shape for preds is (BatchSize x num_preds x 5)\n",
    "    # expected shape for labels is (BatchSize x num_true_labels x 5)\n",
    "    \n",
    "    mAPs = [] #for each iou  threshold\n",
    "    \n",
    "    for iou_thresh in np.arange(start=iou_start, stop=iou_stop + iou_step/2, step=iou_step):\n",
    "        batch_aps = []\n",
    "        \n",
    "        for img_idx in range(len(preds)):\n",
    "            img_preds = preds[img_idx]\n",
    "            img_labels = labels[img_idx]\n",
    "            \n",
    "            # skip if no preds or labels\n",
    "            if len(img_preds) == 0 or len(img_labels) == 0:\n",
    "                continue\n",
    "                \n",
    "            ious = ops.box_iou(img_preds[:, 1:5], img_labels[:, 1:5])\n",
    "            \n",
    "            # sort preds by confidance \n",
    "            conf_sorted_indices = torch.argsort(img_preds[:, 0], descending=True)\n",
    "            \n",
    "            true_positives = torch.zeros(len(img_preds))\n",
    "            false_positives = torch.zeros(len(img_preds))\n",
    "            \n",
    "            # track which true lables have been used\n",
    "            used_gt = torch.zeros(len(img_labels))\n",
    "            \n",
    "            for pred_idx in conf_sorted_indices:\n",
    "                best_iou, best_gt_idx = torch.max(ious[pred_idx], dim=0)\n",
    "                \n",
    "                if best_iou >= iou_thresh and not used_gt[best_gt_idx]:\n",
    "                    true_positives[pred_idx] = 1\n",
    "                    used_gt[best_gt_idx] = True\n",
    "                else:\n",
    "                    false_positives[pred_idx] = 1\n",
    "            \n",
    "            cum_tp = torch.cumsum(true_positives[conf_sorted_indices], dim=0)\n",
    "            cum_fp = torch.cumsum(false_positives[conf_sorted_indices], dim=0)\n",
    "            precision = cum_tp / (cum_tp + cum_fp)\n",
    "            recall = cum_tp / len(img_labels)\n",
    "            \n",
    "            # add (precision=1 recall=0 )and (precision=0  recall=1) \n",
    "            precision = torch.cat([torch.tensor([1.0]), precision, torch.tensor([0.0])])\n",
    "            recall = torch.cat([torch.tensor([0.0]), recall, torch.tensor([1.0])])\n",
    "            \n",
    "            # calc teh ap on the per img level\n",
    "            ap = torch.trapezoid(precision, recall)\n",
    "            batch_aps.append(ap.item())\n",
    "        \n",
    "        # mean across al imgs at this iou level\n",
    "        if batch_aps:\n",
    "            mAPs.append(sum(batch_aps) / len(batch_aps))\n",
    "    \n",
    "    return sum(mAPs) / len(mAPs)\n",
    "    # if mAPs:\n",
    "    #     return sum(mAPs) / len(mAPs)\n",
    "    # else:\n",
    "    #     return 0.0"
   ]
  },
  {
   "cell_type": "code",
   "execution_count": 25,
   "metadata": {},
   "outputs": [
    {
     "data": {
      "text/plain": [
       "0.0"
      ]
     },
     "execution_count": 25,
     "metadata": {},
     "output_type": "execute_result"
    }
   ],
   "source": [
    "mAP(non_max_supp(prediction.detach().cpu(), return_type='xyxy'), y_dev_xyxy) #, iou_start=0.1, iou_stop=0.5)"
   ]
  },
  {
   "cell_type": "code",
   "execution_count": 26,
   "metadata": {},
   "outputs": [],
   "source": [
    "X_me00 = torch.load('/home/kuba/Documents/data/raw/me-img/tensor/clear_side.pt')\n",
    "X_me01 = torch.load('/home/kuba/Documents/data/raw/me-img/tensor/clear_straighton.pt')\n",
    "X_me02 = torch.load('/home/kuba/Documents/data/raw/me-img/tensor/sun_hand.pt')\n",
    "X_me03 = torch.load('/home/kuba/Documents/data/raw/me-img/tensor/sun.pt')\n",
    "\n",
    "me_full = torch.stack((X_me00,X_me01, X_me02, X_me03))"
   ]
  },
  {
   "cell_type": "code",
   "execution_count": 27,
   "metadata": {},
   "outputs": [
    {
     "data": {
      "text/plain": [
       "torch.Size([4, 3, 224, 224])"
      ]
     },
     "execution_count": 27,
     "metadata": {},
     "output_type": "execute_result"
    }
   ],
   "source": [
    "me_full.shape\n"
   ]
  },
  {
   "cell_type": "code",
   "execution_count": 28,
   "metadata": {},
   "outputs": [
    {
     "name": "stderr",
     "output_type": "stream",
     "text": [
      "Clipping input data to the valid range for imshow with RGB data ([0..1] for floats or [0..255] for integers). Got range [-2.106245..2.64].\n"
     ]
    },
    {
     "data": {
      "image/png": "[encoded data removed]",
      "text/plain": [
       "<Figure size 800x800 with 1 Axes>"
      ]
     },
     "metadata": {},
     "output_type": "display_data"
    }
   ],
   "source": [
    "img_num = 2\n",
    "model_cpu = model.cpu()\n",
    "logits = model(me_full)\n",
    "prediction_me = logits.view(-1, 7, 7, 10)\n",
    "res_me  = non_max_supp(prediction_me.detach().cpu(), return_type='xyxy', confidence_threshold=0.35, iou_threshold=0.3)\n",
    "plot_post_non_max(me_full[img_num].cpu(), res_me[img_num])\n"
   ]
  }
 ],
 "metadata": {
  "kernelspec": {
   "display_name": "base",
   "language": "python",
   "name": "python3"
  },
  "language_info": {
   "codemirror_mode": {
    "name": "ipython",
    "version": 3
   },
   "file_extension": ".py",
   "mimetype": "text/x-python",
   "name": "python",
   "nbconvert_exporter": "python",
   "pygments_lexer": "ipython3",
   "version": "3.10.12"
  }
 },
 "nbformat": 4,
 "nbformat_minor": 2
}
