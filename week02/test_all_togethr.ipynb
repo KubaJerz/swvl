{
 "cells": [
  {
   "cell_type": "code",
   "execution_count": 1,
   "metadata": {},
   "outputs": [],
   "source": [
    "import torch\n",
    "import torch.nn as nn\n",
    "from torch.utils.data import ConcatDataset, DataLoader, Subset\n",
    "import torchvision.ops as ops\n",
    "from model import FaceDetector\n",
    "from yoloy_dataset import YoloDataset\n",
    "from loss import Yolo_Loss\n",
    "import os\n",
    "from tqdm import tqdm\n",
    "import matplotlib.pyplot as plt"
   ]
  },
  {
   "cell_type": "code",
   "execution_count": 2,
   "metadata": {},
   "outputs": [
    {
     "name": "stderr",
     "output_type": "stream",
     "text": [
      "/Users/kuba/.vir-envs/base/lib/python3.11/site-packages/torchvision/models/_utils.py:208: UserWarning: The parameter 'pretrained' is deprecated since 0.13 and may be removed in the future, please use 'weights' instead.\n",
      "  warnings.warn(\n",
      "/Users/kuba/.vir-envs/base/lib/python3.11/site-packages/torchvision/models/_utils.py:223: UserWarning: Arguments other than a weight enum or `None` for 'weights' are deprecated since 0.13 and may be removed in the future. The current behavior is equivalent to passing `weights=ResNet50_Weights.IMAGENET1K_V1`. You can also use `weights=ResNet50_Weights.DEFAULT` to get the most up-to-date weights.\n",
      "  warnings.warn(msg)\n"
     ]
    }
   ],
   "source": [
    "model = FaceDetector()"
   ]
  },
  {
   "cell_type": "code",
   "execution_count": 3,
   "metadata": {},
   "outputs": [],
   "source": [
    "for param in model.backbone.parameters():\n",
    "    param.requires_grad = False"
   ]
  },
  {
   "cell_type": "code",
   "execution_count": 4,
   "metadata": {},
   "outputs": [],
   "source": [
    "PATH = '/Users/kuba/Documents/data/raw/single-face-tensors/train'\n",
    "all_train_datasets = []\n",
    "\n",
    "for file in sorted(os.listdir(PATH)):\n",
    "    try:\n",
    "        dataset = YoloDataset((PATH+\"/\"+file))\n",
    "        all_train_datasets.append(dataset)\n",
    "    except Exception as e:\n",
    "        print(f\"Error loading {file}: {str(e)}\")\n",
    "        continue\n",
    "\n",
    "combined = ConcatDataset(all_train_datasets)"
   ]
  },
  {
   "cell_type": "code",
   "execution_count": 5,
   "metadata": {},
   "outputs": [
    {
     "name": "stderr",
     "output_type": "stream",
     "text": [
      "/Users/kuba/.vir-envs/base/lib/python3.11/site-packages/torch/nn/_reduction.py:51: UserWarning: size_average and reduce args will be deprecated, please use reduction='mean' instead.\n",
      "  warnings.warn(warning.format(ret))\n"
     ]
    }
   ],
   "source": [
    "optimizer = torch.optim.AdamW(model.regression_head.parameters(), lr=0.001, weight_decay=0.0005)\n",
    "criterion = Yolo_Loss()"
   ]
  },
  {
   "cell_type": "code",
   "execution_count": 6,
   "metadata": {},
   "outputs": [
    {
     "data": {
      "text/plain": [
       "17373"
      ]
     },
     "execution_count": 6,
     "metadata": {},
     "output_type": "execute_result"
    }
   ],
   "source": [
    "len(combined)"
   ]
  },
  {
   "cell_type": "code",
   "execution_count": 7,
   "metadata": {},
   "outputs": [],
   "source": [
    "train_indices = list(range(3000))\n",
    "dev_indices = list(range(3000, 3500))\n",
    "\n",
    "# Create Subset datasets\n",
    "train_dataset = Subset(combined, train_indices)\n",
    "dev_dataset = Subset(combined, dev_indices)\n",
    "\n",
    "# Create DataLoaders\n",
    "train_loader = DataLoader(train_dataset, batch_size=64)\n",
    "dev_loader = DataLoader(dev_dataset, batch_size=64)"
   ]
  },
  {
   "cell_type": "code",
   "execution_count": 8,
   "metadata": {},
   "outputs": [],
   "source": [
    "lossi = []\n",
    "dev_lossi = []"
   ]
  },
  {
   "cell_type": "code",
   "execution_count": 9,
   "metadata": {},
   "outputs": [],
   "source": [
    "device = 'mps'\n",
    "model = model.to(device)"
   ]
  },
  {
   "cell_type": "code",
   "execution_count": 10,
   "metadata": {},
   "outputs": [
    {
     "name": "stderr",
     "output_type": "stream",
     "text": [
      "100%|██████████| 5/5 [02:42<00:00, 32.55s/it]\n"
     ]
    }
   ],
   "source": [
    "for epoch in tqdm(range(5)):\n",
    "    loss_total = 0\n",
    "    for X_batch, y_batch in train_loader:\n",
    "        X_batch, y_batch = X_batch.to(device), y_batch.to(device)\n",
    "        logits = model(X_batch)\n",
    "        loss = criterion(logits, y_batch)\n",
    "        optimizer.zero_grad()\n",
    "        loss.backward()\n",
    "        optimizer.step()\n",
    "        loss_total += loss.item()\n",
    "    lossi.append(loss_total / len(train_loader))\n",
    "\n",
    "    dev_loss_total = 0\n",
    "    with torch.no_grad():\n",
    "        for X_dev, y_dev in dev_loader:\n",
    "            X_dev, y_dev = X_dev.to(device), y_dev.to(device)\n",
    "            dev_logits = model(X_dev)\n",
    "            dev_loss = criterion(dev_logits, y_dev)\n",
    "            dev_loss_total += dev_loss.item()\n",
    "\n",
    "    dev_lossi.append(dev_loss_total/ len(dev_loader))\n",
    "\n",
    "\n"
   ]
  },
  {
   "cell_type": "code",
   "execution_count": 26,
   "metadata": {},
   "outputs": [
    {
     "data": {
      "text/plain": [
       "[<matplotlib.lines.Line2D at 0x5dc6b20d0>]"
      ]
     },
     "execution_count": 26,
     "metadata": {},
     "output_type": "execute_result"
    },
    {
     "data": {
      "image/png": "[encoded data removed]",
      "text/plain": [
       "<Figure size 640x480 with 1 Axes>"
      ]
     },
     "metadata": {},
     "output_type": "display_data"
    }
   ],
   "source": [
    "plt.plot(lossi[3:])\n",
    "plt.plot(dev_lossi[3:])"
   ]
  },
  {
   "cell_type": "code",
   "execution_count": 12,
   "metadata": {},
   "outputs": [],
   "source": [
    "prediction = dev_logits.view(-1, 7, 7, 10)"
   ]
  },
  {
   "cell_type": "code",
   "execution_count": 13,
   "metadata": {},
   "outputs": [],
   "source": [
    "def yolo_label_to_cxcywh(label, img_size, S=7, absolute_pixl_values=False):\n",
    "    #we assume imput size to be (S x S x 5)\n",
    "    all_converted = []\n",
    "    img_w, img_h = img_size\n",
    "    cell_w, cell_h =  img_w/S, img_h/S\n",
    "    for row in range(S):\n",
    "        for col in range(S):\n",
    "            #if its a bbox then confidace will be 1\n",
    "            if label[row][col][0] == 1: \n",
    "                relative_x, relative_y = label[row][col][1], label[row][col][2]\n",
    "                relative_w, relative_h = label[row][col][3], label[row][col][4]\n",
    "\n",
    "                #these are in absolute pxl values not 0-1\n",
    "                true_x = (col + relative_x) * cell_w\n",
    "                true_y = (row + relative_y) * cell_h\n",
    "                true_w = relative_w * cell_w\n",
    "                true_h = relative_h * cell_h\n",
    "\n",
    "                if absolute_pixl_values:\n",
    "                    all_converted.append(torch.tensor([1, true_x, true_y, true_w, true_h]))\n",
    "                else:\n",
    "                #to make it 0-1\n",
    "                    all_converted.append(torch.tensor([1, true_x/img_w, true_y/img_h, true_w/img_w, true_h/img_h]))\n",
    "                    \n",
    "    return torch.stack(all_converted)"
   ]
  },
  {
   "cell_type": "code",
   "execution_count": 14,
   "metadata": {},
   "outputs": [],
   "source": [
    "def yolo_labels_to_xyxy(labels, S=7):\n",
    "    #we assume imput size to be (BatchSize x S x S x 5)\n",
    "    all_converted = []    \n",
    "    for label in labels:\n",
    "        batch_converted = []\n",
    "        for row in range(S):\n",
    "            for col in range(S):\n",
    "                #if its a bbox then confidace will be 1\n",
    "                if label[row][col][0] == 1: \n",
    "                    relative_x, relative_y = label[row][col][1], label[row][col][2]\n",
    "                    relative_w, relative_h = label[row][col][3], label[row][col][4]\n",
    "\n",
    "                    x_img = (col + relative_x) / S\n",
    "                    y_img = (row + relative_y) / S\n",
    "                    w_img = relative_w / S\n",
    "                    h_img = relative_h / S\n",
    "                    \n",
    "                    x1 = x_img - w_img / 2\n",
    "                    y1 = y_img - h_img / 2\n",
    "                    x2 = x_img + w_img / 2\n",
    "                    y2 = y_img + h_img / 2\n",
    "\n",
    "\n",
    "                    batch_converted.append(torch.tensor([1, x1, y1, x2, y2]))\n",
    "                        \n",
    "        all_converted.append(torch.stack(batch_converted))\n",
    "    return all_converted"
   ]
  },
  {
   "cell_type": "code",
   "execution_count": 15,
   "metadata": {},
   "outputs": [],
   "source": [
    "def non_max_supp(preds, confidence_threshold = 0.3, iou_threshold=0.5, S=7, return_type='xywh'):\n",
    "    batch_size = preds.shape[0]\n",
    "    all_res = []\n",
    "\n",
    "\n",
    "    for i in range(batch_size):\n",
    "        pred = preds[i]\n",
    "\n",
    "        all_scores = []\n",
    "        all_boxes_xyxy = []\n",
    "        all_boxes_xywh = []\n",
    "        for row in range(S):\n",
    "            for col in range(S):\n",
    "\n",
    "                if pred[row, col][0] < confidence_threshold:\n",
    "                    continue\n",
    "\n",
    "\n",
    "                x_cell, y_cell, w_cell, h_cell = pred[row, col][1:5]\n",
    "                \n",
    "                x_img = (col + x_cell) / S\n",
    "                y_img = (row + y_cell) / S\n",
    "                w_img = w_cell / S\n",
    "                h_img = h_cell / S\n",
    "                \n",
    "                x1 = x_img - w_img / 2\n",
    "                y1 = y_img - h_img / 2\n",
    "                x2 = x_img + w_img / 2\n",
    "                y2 = y_img + h_img / 2\n",
    "\n",
    "                all_scores.append(pred[row, col][0])\n",
    "                all_boxes_xyxy.append(torch.tensor((x1,y1,x2,y2))) #for the nms calculation\n",
    "                all_boxes_xywh.append(torch.tensor((x_img,y_img,w_img,h_img))) #for we will use to plot easy later\n",
    "\n",
    "        #if no prediction has highenough confidace then we get rid of it\n",
    "        if len(all_boxes_xyxy) == 0:\n",
    "            all_res.append(torch.tensor([]))\n",
    "            continue\n",
    "\n",
    "        #here we get the idx of the valid boxes after non max suppreshion\n",
    "        res = ops.nms(torch.stack(all_boxes_xyxy), torch.stack(all_scores), iou_threshold=iou_threshold)\n",
    "        # for each of the idx we combine now with confidacne  \n",
    "        if return_type == 'xywh':\n",
    "            keep_boxes = [ torch.cat((all_scores[idx].unsqueeze(0), all_boxes_xywh[idx][:])) for idx in res]\n",
    "        elif return_type == 'xyxy':\n",
    "            keep_boxes = [ torch.cat((all_scores[idx].unsqueeze(0), all_boxes_xyxy[idx][:])) for idx in res]\n",
    "        #we append to the total preds list for each batch\n",
    "        all_res.append(torch.stack(keep_boxes))\n",
    "        \n",
    "    return all_res\n",
    "\n",
    "\n",
    "            "
   ]
  },
  {
   "cell_type": "code",
   "execution_count": 16,
   "metadata": {},
   "outputs": [],
   "source": [
    "res  = non_max_supp(prediction.detach().cpu(), return_type='xyxy')"
   ]
  },
  {
   "cell_type": "code",
   "execution_count": 17,
   "metadata": {},
   "outputs": [],
   "source": [
    "def plot_post_non_max(img, preds, preds_type='cx,cy,w,h', labels=[], labels_type='cx,cy,w,h'):\n",
    "    img = img.permute(1, 2, 0) #to go from (3 x W x H) to (W x H x 3)\n",
    "    plt.figure(figsize=(8, 8))\n",
    "    plt.imshow(img)\n",
    "    img_w, img_h = img.shape[:2]\n",
    "\n",
    "    def plot_cxcywh_style(labels, img_w, img_h, color, marker='ro', show_confidance=False):\n",
    "         for label in labels:\n",
    "            confidance, center_x, center_y, width, height = label\n",
    "            center_x, center_y, width, height = int(center_x * img_w), int(center_y * img_h), int(width * img_w), int(height * img_h)\n",
    "            xmin = center_x - width/2\n",
    "            xmax = center_x + width/2\n",
    "            ymin = center_y - height/2\n",
    "            ymax = center_y + height/2\n",
    "            \n",
    "            #  center and text\n",
    "            if show_confidance:\n",
    "                plt.text(center_x, center_y, f\"{confidance.item():.3f}\", bbox=dict(facecolor='white', alpha=0.35, boxstyle='round'), fontsize=8)\n",
    "            plt.plot(center_x, center_y, marker)\n",
    "\n",
    "            \n",
    "            # (horizontal lines)\n",
    "            plt.hlines(ymin, xmin=xmin, xmax=xmax, colors=color)\n",
    "            plt.hlines(ymax, xmin=xmin, xmax=xmax, colors=color)\n",
    "            \n",
    "            # (vertical lines)\n",
    "            plt.vlines(xmin, ymin=ymin, ymax=ymax, colors=color)\n",
    "            plt.vlines(xmax, ymin=ymin, ymax=ymax, colors=color)\n",
    "         \n",
    "\n",
    "    if preds_type == 'cx,cy,w,h':\n",
    "        plot_cxcywh_style(preds, img_w, img_h, 'red', 'ro', True)\n",
    "\n",
    "    if len(labels) != 0 and labels_type == 'cx,cy,w,h':\n",
    "        plot_cxcywh_style(labels, img_w, img_h, 'green', 'g1')\n",
    "    \n",
    "    plt.axis('off')\n",
    "    plt.show()"
   ]
  },
  {
   "cell_type": "code",
   "execution_count": 18,
   "metadata": {},
   "outputs": [
    {
     "name": "stderr",
     "output_type": "stream",
     "text": [
      "Clipping input data to the valid range for imshow with RGB data ([0..1] for floats or [0..255] for integers). Got range [-2.1002855..2.6145253].\n"
     ]
    },
    {
     "data": {
      "image/png": "[encoded data removed]",
      "text/plain": [
       "<Figure size 800x800 with 1 Axes>"
      ]
     },
     "metadata": {},
     "output_type": "display_data"
    }
   ],
   "source": [
    "idx = 2\n",
    "plot_post_non_max(X_dev[idx].cpu(), res[idx], labels=yolo_label_to_cxcywh(y_dev[idx], (224,224)))"
   ]
  },
  {
   "cell_type": "code",
   "execution_count": 19,
   "metadata": {},
   "outputs": [],
   "source": [
    "y_dev_xyxy = yolo_labels_to_xyxy(y_dev)"
   ]
  },
  {
   "cell_type": "code",
   "execution_count": 20,
   "metadata": {},
   "outputs": [],
   "source": [
    "import numpy as np\n",
    "import torch\n",
    "import torchvision.ops as ops\n",
    "\n",
    "def mAP(preds, labels, iou_start=0.5, iou_stop=0.95, iou_step=0.05):\n",
    "    # expected shape for preds is (BatchSize x num_preds x 5)\n",
    "    # expected shape for labels is (BatchSize x num_true_labels x 5)\n",
    "    \n",
    "    mAPs = [] #for each iou  threshold\n",
    "    \n",
    "    for iou_thresh in np.arange(start=iou_start, stop=iou_stop + iou_step/2, step=iou_step):\n",
    "        batch_aps = []\n",
    "        \n",
    "        for img_idx in range(len(preds)):\n",
    "            img_preds = preds[img_idx]\n",
    "            img_labels = labels[img_idx]\n",
    "            \n",
    "            # skip if no preds or labels\n",
    "            if len(img_preds) == 0 or len(img_labels) == 0:\n",
    "                continue\n",
    "                \n",
    "            ious = ops.box_iou(img_preds[:, 1:5], img_labels[:, 1:5])\n",
    "            \n",
    "            # sort preds by confidance \n",
    "            conf_sorted_indices = torch.argsort(img_preds[:, 0], descending=True)\n",
    "            \n",
    "            true_positives = torch.zeros(len(img_preds))\n",
    "            false_positives = torch.zeros(len(img_preds))\n",
    "            \n",
    "            # track which true lables have been used\n",
    "            used_gt = torch.zeros(len(img_labels))\n",
    "            \n",
    "            for pred_idx in conf_sorted_indices:\n",
    "                best_iou, best_gt_idx = torch.max(ious[pred_idx], dim=0)\n",
    "                \n",
    "                if best_iou >= iou_thresh and not used_gt[best_gt_idx]:\n",
    "                    true_positives[pred_idx] = 1\n",
    "                    used_gt[best_gt_idx] = True\n",
    "                else:\n",
    "                    false_positives[pred_idx] = 1\n",
    "            \n",
    "            cum_tp = torch.cumsum(true_positives[conf_sorted_indices], dim=0)\n",
    "            cum_fp = torch.cumsum(false_positives[conf_sorted_indices], dim=0)\n",
    "            precision = cum_tp / (cum_tp + cum_fp)\n",
    "            recall = cum_tp / len(img_labels)\n",
    "            \n",
    "            # add (precision=1 recall=0 )and (precision=0  recall=1) \n",
    "            precision = torch.cat([torch.tensor([1.0]), precision, torch.tensor([0.0])])\n",
    "            recall = torch.cat([torch.tensor([0.0]), recall, torch.tensor([1.0])])\n",
    "            \n",
    "            # calc teh ap on the per img level\n",
    "            ap = torch.trapezoid(precision, recall)\n",
    "            batch_aps.append(ap.item())\n",
    "        \n",
    "        # mean across al imgs at this iou level\n",
    "        if batch_aps:\n",
    "            mAPs.append(sum(batch_aps) / len(batch_aps))\n",
    "    \n",
    "    return sum(mAPs) / len(mAPs)\n",
    "    # if mAPs:\n",
    "    #     return sum(mAPs) / len(mAPs)\n",
    "    # else:\n",
    "    #     return 0.0"
   ]
  },
  {
   "cell_type": "code",
   "execution_count": 21,
   "metadata": {},
   "outputs": [
    {
     "data": {
      "text/plain": [
       "0.0"
      ]
     },
     "execution_count": 21,
     "metadata": {},
     "output_type": "execute_result"
    }
   ],
   "source": [
    "mAP(non_max_supp(prediction.detach().cpu(), return_type='xyxy'), y_dev_xyxy) #, iou_start=0.1, iou_stop=0.5)"
   ]
  },
  {
   "cell_type": "code",
   "execution_count": 22,
   "metadata": {},
   "outputs": [
    {
     "ename": "FileNotFoundError",
     "evalue": "[Errno 2] No such file or directory: '/home/kuba/Documents/data/raw/me-img/tensor/clear_side.pt'",
     "output_type": "error",
     "traceback": [
      "\u001b[0;31m---------------------------------------------------------------------------\u001b[0m",
      "\u001b[0;31mFileNotFoundError\u001b[0m                         Traceback (most recent call last)",
      "Cell \u001b[0;32mIn[22], line 1\u001b[0m\n\u001b[0;32m----> 1\u001b[0m X_me00 \u001b[38;5;241m=\u001b[39m \u001b[43mtorch\u001b[49m\u001b[38;5;241;43m.\u001b[39;49m\u001b[43mload\u001b[49m\u001b[43m(\u001b[49m\u001b[38;5;124;43m'\u001b[39;49m\u001b[38;5;124;43m/home/kuba/Documents/data/raw/me-img/tensor/clear_side.pt\u001b[39;49m\u001b[38;5;124;43m'\u001b[39;49m\u001b[43m)\u001b[49m\n\u001b[1;32m      2\u001b[0m X_me01 \u001b[38;5;241m=\u001b[39m torch\u001b[38;5;241m.\u001b[39mload(\u001b[38;5;124m'\u001b[39m\u001b[38;5;124m/home/kuba/Documents/data/raw/me-img/tensor/clear_straighton.pt\u001b[39m\u001b[38;5;124m'\u001b[39m)\n\u001b[1;32m      3\u001b[0m X_me02 \u001b[38;5;241m=\u001b[39m torch\u001b[38;5;241m.\u001b[39mload(\u001b[38;5;124m'\u001b[39m\u001b[38;5;124m/home/kuba/Documents/data/raw/me-img/tensor/sun_hand.pt\u001b[39m\u001b[38;5;124m'\u001b[39m)\n",
      "File \u001b[0;32m~/.vir-envs/base/lib/python3.11/site-packages/torch/serialization.py:1425\u001b[0m, in \u001b[0;36mload\u001b[0;34m(f, map_location, pickle_module, weights_only, mmap, **pickle_load_args)\u001b[0m\n\u001b[1;32m   1422\u001b[0m \u001b[38;5;28;01mif\u001b[39;00m \u001b[38;5;124m\"\u001b[39m\u001b[38;5;124mencoding\u001b[39m\u001b[38;5;124m\"\u001b[39m \u001b[38;5;129;01mnot\u001b[39;00m \u001b[38;5;129;01min\u001b[39;00m pickle_load_args\u001b[38;5;241m.\u001b[39mkeys():\n\u001b[1;32m   1423\u001b[0m     pickle_load_args[\u001b[38;5;124m\"\u001b[39m\u001b[38;5;124mencoding\u001b[39m\u001b[38;5;124m\"\u001b[39m] \u001b[38;5;241m=\u001b[39m \u001b[38;5;124m\"\u001b[39m\u001b[38;5;124mutf-8\u001b[39m\u001b[38;5;124m\"\u001b[39m\n\u001b[0;32m-> 1425\u001b[0m \u001b[38;5;28;01mwith\u001b[39;00m \u001b[43m_open_file_like\u001b[49m\u001b[43m(\u001b[49m\u001b[43mf\u001b[49m\u001b[43m,\u001b[49m\u001b[43m \u001b[49m\u001b[38;5;124;43m\"\u001b[39;49m\u001b[38;5;124;43mrb\u001b[39;49m\u001b[38;5;124;43m\"\u001b[39;49m\u001b[43m)\u001b[49m \u001b[38;5;28;01mas\u001b[39;00m opened_file:\n\u001b[1;32m   1426\u001b[0m     \u001b[38;5;28;01mif\u001b[39;00m _is_zipfile(opened_file):\n\u001b[1;32m   1427\u001b[0m         \u001b[38;5;66;03m# The zipfile reader is going to advance the current file position.\u001b[39;00m\n\u001b[1;32m   1428\u001b[0m         \u001b[38;5;66;03m# If we want to actually tail call to torch.jit.load, we need to\u001b[39;00m\n\u001b[1;32m   1429\u001b[0m         \u001b[38;5;66;03m# reset back to the original position.\u001b[39;00m\n\u001b[1;32m   1430\u001b[0m         orig_position \u001b[38;5;241m=\u001b[39m opened_file\u001b[38;5;241m.\u001b[39mtell()\n",
      "File \u001b[0;32m~/.vir-envs/base/lib/python3.11/site-packages/torch/serialization.py:751\u001b[0m, in \u001b[0;36m_open_file_like\u001b[0;34m(name_or_buffer, mode)\u001b[0m\n\u001b[1;32m    749\u001b[0m \u001b[38;5;28;01mdef\u001b[39;00m\u001b[38;5;250m \u001b[39m\u001b[38;5;21m_open_file_like\u001b[39m(name_or_buffer, mode):\n\u001b[1;32m    750\u001b[0m     \u001b[38;5;28;01mif\u001b[39;00m _is_path(name_or_buffer):\n\u001b[0;32m--> 751\u001b[0m         \u001b[38;5;28;01mreturn\u001b[39;00m \u001b[43m_open_file\u001b[49m\u001b[43m(\u001b[49m\u001b[43mname_or_buffer\u001b[49m\u001b[43m,\u001b[49m\u001b[43m \u001b[49m\u001b[43mmode\u001b[49m\u001b[43m)\u001b[49m\n\u001b[1;32m    752\u001b[0m     \u001b[38;5;28;01melse\u001b[39;00m:\n\u001b[1;32m    753\u001b[0m         \u001b[38;5;28;01mif\u001b[39;00m \u001b[38;5;124m\"\u001b[39m\u001b[38;5;124mw\u001b[39m\u001b[38;5;124m\"\u001b[39m \u001b[38;5;129;01min\u001b[39;00m mode:\n",
      "File \u001b[0;32m~/.vir-envs/base/lib/python3.11/site-packages/torch/serialization.py:732\u001b[0m, in \u001b[0;36m_open_file.__init__\u001b[0;34m(self, name, mode)\u001b[0m\n\u001b[1;32m    731\u001b[0m \u001b[38;5;28;01mdef\u001b[39;00m\u001b[38;5;250m \u001b[39m\u001b[38;5;21m__init__\u001b[39m(\u001b[38;5;28mself\u001b[39m, name, mode):\n\u001b[0;32m--> 732\u001b[0m     \u001b[38;5;28msuper\u001b[39m()\u001b[38;5;241m.\u001b[39m\u001b[38;5;21m__init__\u001b[39m(\u001b[38;5;28mopen\u001b[39m(name, mode))\n",
      "\u001b[0;31mFileNotFoundError\u001b[0m: [Errno 2] No such file or directory: '/home/kuba/Documents/data/raw/me-img/tensor/clear_side.pt'"
     ]
    }
   ],
   "source": [
    "X_me00 = torch.load('/home/kuba/Documents/data/raw/me-img/tensor/clear_side.pt')\n",
    "X_me01 = torch.load('/home/kuba/Documents/data/raw/me-img/tensor/clear_straighton.pt')\n",
    "X_me02 = torch.load('/home/kuba/Documents/data/raw/me-img/tensor/sun_hand.pt')\n",
    "X_me03 = torch.load('/home/kuba/Documents/data/raw/me-img/tensor/sun.pt')\n",
    "\n",
    "me_full = torch.stack((X_me00,X_me01, X_me02, X_me03))"
   ]
  },
  {
   "cell_type": "code",
   "execution_count": null,
   "metadata": {},
   "outputs": [
    {
     "data": {
      "text/plain": [
       "torch.Size([4, 3, 224, 224])"
      ]
     },
     "execution_count": 116,
     "metadata": {},
     "output_type": "execute_result"
    }
   ],
   "source": [
    "me_full.shape\n"
   ]
  },
  {
   "cell_type": "code",
   "execution_count": null,
   "metadata": {},
   "outputs": [
    {
     "ename": "NameError",
     "evalue": "name 'me_full' is not defined",
     "output_type": "error",
     "traceback": [
      "\u001b[0;31m---------------------------------------------------------------------------\u001b[0m",
      "\u001b[0;31mNameError\u001b[0m                                 Traceback (most recent call last)",
      "Cell \u001b[0;32mIn[56], line 3\u001b[0m\n\u001b[1;32m      1\u001b[0m img_num \u001b[38;5;241m=\u001b[39m \u001b[38;5;241m3\u001b[39m\n\u001b[1;32m      2\u001b[0m model_cpu \u001b[38;5;241m=\u001b[39m model\u001b[38;5;241m.\u001b[39mcpu()\n\u001b[0;32m----> 3\u001b[0m logits \u001b[38;5;241m=\u001b[39m (model(\u001b[43mme_full\u001b[49m[img_num]\u001b[38;5;241m.\u001b[39munsqueeze(dim\u001b[38;5;241m=\u001b[39m\u001b[38;5;241m0\u001b[39m)))\u001b[38;5;241m.\u001b[39msqueeze()\n\u001b[1;32m      4\u001b[0m prediction \u001b[38;5;241m=\u001b[39m logits\u001b[38;5;241m.\u001b[39mview(\u001b[38;5;241m-\u001b[39m\u001b[38;5;241m1\u001b[39m, \u001b[38;5;241m7\u001b[39m, \u001b[38;5;241m7\u001b[39m, \u001b[38;5;241m10\u001b[39m)\n\u001b[1;32m      5\u001b[0m draw_bounding_boxes(me_full[img_num]\u001b[38;5;241m.\u001b[39mcpu(), prediction[\u001b[38;5;241m0\u001b[39m]\u001b[38;5;241m.\u001b[39mdetach()\u001b[38;5;241m.\u001b[39mcpu())\n",
      "\u001b[0;31mNameError\u001b[0m: name 'me_full' is not defined"
     ]
    }
   ],
   "source": [
    "img_num = 3\n",
    "model_cpu = model.cpu()\n",
    "logits = (model(me_full[img_num].unsqueeze(dim=0))).squeeze()\n",
    "prediction = logits.view(-1, 7, 7, 10)\n",
    "draw_bounding_boxes(me_full[img_num].cpu(), prediction[0].detach().cpu())\n"
   ]
  }
 ],
 "metadata": {
  "kernelspec": {
   "display_name": "base",
   "language": "python",
   "name": "python3"
  },
  "language_info": {
   "codemirror_mode": {
    "name": "ipython",
    "version": 3
   },
   "file_extension": ".py",
   "mimetype": "text/x-python",
   "name": "python",
   "nbconvert_exporter": "python",
   "pygments_lexer": "ipython3",
   "version": "3.11.5"
  }
 },
 "nbformat": 4,
 "nbformat_minor": 2
}
