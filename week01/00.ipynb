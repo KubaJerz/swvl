{
 "cells": [
  {
   "cell_type": "code",
   "execution_count": 24,
   "metadata": {},
   "outputs": [],
   "source": [
    "import torch \n",
    "import torch.nn as nn\n",
    "from PIL import Image\n",
    "from  torchvision import transforms"
   ]
  },
  {
   "cell_type": "code",
   "execution_count": 25,
   "metadata": {},
   "outputs": [
    {
     "name": "stdout",
     "output_type": "stream",
     "text": [
      "Image tensor shape: torch.Size([3, 1024, 683])\n",
      "Label tensor: tensor([0.0000, 0.5076, 0.3823, 0.5736, 0.5206])\n"
     ]
    }
   ],
   "source": [
    "#lets import an img to use to test our model is structured proparly\n",
    "f_img = '/Users/kuba/Documents/data/Raw/Face-Detection-Dataset/images/train/0a0d7a87378422e3.jpg'\n",
    "f_label = '/Users/kuba/Documents/data/Raw/Face-Detection-Dataset/labels/train/0a0d7a87378422e3.txt'\n",
    "\n",
    "image = Image.open(f_img)\n",
    "\n",
    "# normalizes 0 to 1\n",
    "transform = transforms.ToTensor()\n",
    "img_tensor = transform(image) \n",
    "\n",
    "with open(f_label, 'r') as f:\n",
    "    label = f.readline().strip()  \n",
    "    bbox = torch.tensor([float(x) for x in label.split()])\n",
    "\n",
    "print(\"Image tensor shape:\", img_tensor.shape)\n",
    "print(\"Label tensor:\", bbox)"
   ]
  },
  {
   "cell_type": "code",
   "execution_count": null,
   "metadata": {},
   "outputs": [],
   "source": [
    "#same bacuise we go 3x3, 3x3, 3x3\n",
    "class BasicBlockSame(nn.Module):\n",
    "    def __init__(self, in_channels, out_channels):\n",
    "        super().__init__()\n",
    "        self.conv0 = nn.Conv2d(in_channels, out_channels, 3)\n",
    "        self.bnorm0 = nn.BatchNorm2d(out_channels)\n",
    "\n",
    "        self.conv1 = nn.Conv2d(out_channels, out_channels, 3)\n",
    "        self.bnorm1 = nn.BatchNorm2d(out_channels)\n",
    "\n",
    "        self.conv2 = nn.Conv2d(out_channels, out_channels, 3)\n",
    "        self.bnorm2 = nn.BatchNorm2d(out_channels)\n",
    "\n",
    "    def forward(self, x):\n",
    "        residual = x\n",
    "        x = self.conv0(x)\n",
    "        x = self.bnorm0(x)\n",
    "        x = nn.functional.relu(x)\n",
    "\n",
    "        x = self.conv1(x)\n",
    "        x = self.bnorm1(x)\n",
    "        x = nn.functional.relu(x)\n",
    "\n",
    "        x = self.conv2(x)\n",
    "        x = self.bnorm2(x)\n",
    "\n",
    "        x += residual\n",
    "        x = nn.functional.relu(x)\n",
    "        return x\n"
   ]
  },
  {
   "cell_type": "code",
   "execution_count": null,
   "metadata": {},
   "outputs": [],
   "source": [
    "#varying bacuise we go 3x3, 1x1, 3x3\n",
    "class BasicBlockVarying(nn.Module):\n",
    "    def __init__(self, in_channels, out_channels):\n",
    "        super().__init__()\n",
    "        self.conv0 = nn.Conv2d(in_channels, out_channels, 3)\n",
    "        self.bnorm0 = nn.BatchNorm2d(out_channels)\n",
    "\n",
    "        self.conv1 = nn.Conv2d(out_channels, out_channels, 1)\n",
    "        self.bnorm1 = nn.BatchNorm2d(out_channels)\n",
    "\n",
    "        self.conv2 = nn.Conv2d(out_channels, out_channels, 3)\n",
    "        self.bnorm2 = nn.BatchNorm2d(out_channels)\n",
    "\n",
    "    def forward(self, x):\n",
    "        residual = x\n",
    "        x = self.conv0(x)\n",
    "        x = self.bnorm0(x)\n",
    "        x = nn.functional.relu(x)\n",
    "\n",
    "        x = self.conv1(x)\n",
    "        x = self.bnorm1(x)\n",
    "        x = nn.functional.relu(x)\n",
    "\n",
    "        x = self.conv2(x)\n",
    "        x = self.bnorm2(x)\n",
    "\n",
    "        x += residual\n",
    "        x = nn.functional.relu(x)\n",
    "        return x\n"
   ]
  },
  {
   "cell_type": "code",
   "execution_count": null,
   "metadata": {},
   "outputs": [],
   "source": [
    "\n",
    "class SenResNet(nn.Module):\n",
    "    def __init__(self, *args, **kwargs):\n",
    "        super().__init__(*args, **kwargs)\n",
    "        self.c0 = nn.Conv2d(3,32,3,padding=1)\n",
    "        self.maxp = nn.MaxPool2d(2,2)\n",
    "\n",
    "    def forward(self, x):\n",
    "        x = self.c0(x)\n",
    "        x = self.maxp(x)\n",
    "        return x"
   ]
  },
  {
   "cell_type": "code",
   "execution_count": 28,
   "metadata": {},
   "outputs": [],
   "source": [
    "model = SenResNet()"
   ]
  },
  {
   "cell_type": "code",
   "execution_count": 29,
   "metadata": {},
   "outputs": [
    {
     "data": {
      "text/plain": [
       "torch.Size([32, 512, 341])"
      ]
     },
     "execution_count": 29,
     "metadata": {},
     "output_type": "execute_result"
    }
   ],
   "source": [
    "model(img_tensor).shape"
   ]
  }
 ],
 "metadata": {
  "kernelspec": {
   "display_name": "base",
   "language": "python",
   "name": "python3"
  },
  "language_info": {
   "codemirror_mode": {
    "name": "ipython",
    "version": 3
   },
   "file_extension": ".py",
   "mimetype": "text/x-python",
   "name": "python",
   "nbconvert_exporter": "python",
   "pygments_lexer": "ipython3",
   "version": "3.12.2"
  }
 },
 "nbformat": 4,
 "nbformat_minor": 2
}
