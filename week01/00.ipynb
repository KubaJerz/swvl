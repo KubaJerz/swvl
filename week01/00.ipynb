{
 "cells": [
  {
   "cell_type": "code",
   "execution_count": 55,
   "metadata": {},
   "outputs": [],
   "source": [
    "import torch \n",
    "import torch.nn as nn\n",
    "from PIL import Image\n",
    "from  torchvision import transforms"
   ]
  },
  {
   "cell_type": "code",
   "execution_count": 56,
   "metadata": {},
   "outputs": [
    {
     "name": "stdout",
     "output_type": "stream",
     "text": [
      "Image tensor shape: torch.Size([3, 1024, 683])\n",
      "Label tensor: tensor([0.0000, 0.5076, 0.3823, 0.5736, 0.5206])\n"
     ]
    }
   ],
   "source": [
    "#lets import an img to use to test our model is structured proparly\n",
    "f_img = '/Users/kuba/Documents/data/Raw/Face-Detection-Dataset/images/train/0a0d7a87378422e3.jpg'\n",
    "f_label = '/Users/kuba/Documents/data/Raw/Face-Detection-Dataset/labels/train/0a0d7a87378422e3.txt'\n",
    "\n",
    "image = Image.open(f_img)\n",
    "\n",
    "# normalizes 0 to 1\n",
    "transform = transforms.ToTensor()\n",
    "img_tensor = transform(image) \n",
    "\n",
    "with open(f_label, 'r') as f:\n",
    "    label = f.readline().strip()  \n",
    "    bbox = torch.tensor([float(x) for x in label.split()])\n",
    "\n",
    "print(\"Image tensor shape:\", img_tensor.shape)\n",
    "print(\"Label tensor:\", bbox)"
   ]
  },
  {
   "cell_type": "code",
   "execution_count": 57,
   "metadata": {},
   "outputs": [],
   "source": [
    "#same bacuise we go 3x3, 3x3, 3x3\n",
    "class BasicBlockSame(nn.Module):\n",
    "    def __init__(self, in_channels, out_channels, stride=1):\n",
    "        super().__init__()\n",
    "        self.conv0 = nn.Conv2d(in_channels, out_channels, 3, padding=1, stride=stride, bias=False)\n",
    "        self.bnorm0 = nn.BatchNorm2d(out_channels)\n",
    "\n",
    "        self.conv1 = nn.Conv2d(out_channels, out_channels, 3, padding=1, bias=False)\n",
    "        self.bnorm1 = nn.BatchNorm2d(out_channels)\n",
    "\n",
    "        self.conv2 = nn.Conv2d(out_channels, out_channels, 3, padding=1, bias=False)\n",
    "        self.bnorm2 = nn.BatchNorm2d(out_channels)\n",
    "\n",
    "        self.shortcut  = nn.Sequential()\n",
    "        if in_channels != out_channels:\n",
    "            self.shortcut = nn.Conv2d(in_channels, out_channels, 1, stride=stride)\n",
    "\n",
    "    def forward(self, x):\n",
    "        residual = x\n",
    "        x = self.conv0(x)\n",
    "        x = self.bnorm0(x)\n",
    "        x = nn.functional.relu(x)\n",
    "\n",
    "        x = self.conv1(x)\n",
    "        x = self.bnorm1(x)\n",
    "        x = nn.functional.relu(x)\n",
    "\n",
    "        x = self.conv2(x)\n",
    "        x = self.bnorm2(x)\n",
    "        \n",
    "        print(x.shape)\n",
    "        print(self.shortcut(residual).shape)\n",
    "\n",
    "\n",
    "        x += self.shortcut(residual)\n",
    "        x = nn.functional.relu(x)\n",
    "        return x\n"
   ]
  },
  {
   "cell_type": "code",
   "execution_count": 58,
   "metadata": {},
   "outputs": [],
   "source": [
    "#varying bacuise we go 3x3, 1x1, 3x3\n",
    "class BasicBlockVarying(nn.Module):\n",
    "    def __init__(self, in_channels, out_channels, stride=1 ):\n",
    "        super().__init__()\n",
    "        self.conv0 = nn.Conv2d(in_channels, out_channels, 3, padding=1, stride=stride, bias=False)\n",
    "        self.bnorm0 = nn.BatchNorm2d(out_channels)\n",
    "\n",
    "        self.conv1 = nn.Conv2d(out_channels, out_channels, 1, bias=False)\n",
    "        self.bnorm1 = nn.BatchNorm2d(out_channels)\n",
    "\n",
    "        self.conv2 = nn.Conv2d(out_channels, out_channels, 3, padding=1, bias=False)\n",
    "        self.bnorm2 = nn.BatchNorm2d(out_channels)\n",
    "\n",
    "        self.shortcut  = nn.Sequential()\n",
    "        if in_channels != out_channels:\n",
    "            self.shortcut = nn.Conv2d(in_channels, out_channels, 1, stride=stride)\n",
    "\n",
    "    def forward(self, x):\n",
    "        residual = x\n",
    "        x = self.conv0(x)\n",
    "        x = self.bnorm0(x)\n",
    "        x = nn.functional.relu(x)\n",
    "\n",
    "        x = self.conv1(x)\n",
    "        x = self.bnorm1(x)\n",
    "        x = nn.functional.relu(x)\n",
    "\n",
    "        x = self.conv2(x)\n",
    "        x = self.bnorm2(x)\n",
    "\n",
    "\n",
    "\n",
    "        x += self.shortcut(residual)\n",
    "        x = nn.functional.relu(x)\n",
    "        return x\n"
   ]
  },
  {
   "cell_type": "code",
   "execution_count": 59,
   "metadata": {},
   "outputs": [],
   "source": [
    "class SENBlock(nn.Module):\n",
    "    def __init__(self, in_channels, r=16):\n",
    "        super().__init__()\n",
    "        self.sq = nn.AdaptiveAvgPool2d(1)\n",
    "        self.fc0 = nn.Linear(in_channels, int(in_channels/r))\n",
    "        self.fc1 = nn.Linear(int(in_channels/r), in_channels)\n",
    "\n",
    "    def forward(self, x):\n",
    "        residual = x\n",
    "        batch_size, channels, _, _ = residual.size()\n",
    "        x = self.sq(x).squeeze()\n",
    "        x = self.fc0(x)\n",
    "        x = nn.functional.relu(x)\n",
    "\n",
    "        x = self.fc1(x)\n",
    "        x = nn.functional.sigmoid(x).view(batch_size, channels, 1, 1)\n",
    "        \n",
    "        x = residual * x\n",
    "        return x"
   ]
  },
  {
   "cell_type": "code",
   "execution_count": 60,
   "metadata": {},
   "outputs": [],
   "source": [
    "class SenResNet(nn.Module):\n",
    "    def __init__(self, *args, **kwargs):\n",
    "        super().__init__(*args, **kwargs)\n",
    "        self.c0 = nn.Conv2d(3,32,3,padding=1)\n",
    "        self.maxp = nn.MaxPool2d(2,2)\n",
    "        self.resblock0 = BasicBlockSame(32,64, stride=2)\n",
    "        self.resblock1 = BasicBlockSame(64,64)\n",
    "        self.resblock2 = BasicBlockSame(64,64)\n",
    "        self.sen0 = SENBlock(64)\n",
    "\n",
    "        self.resblock3  = BasicBlockVarying(64,128, stride=2)\n",
    "        self.resblock4  = BasicBlockVarying(128,128)\n",
    "        self.resblock5  = BasicBlockVarying(128,128)\n",
    "        self.resblock6  = BasicBlockVarying(128,128)\n",
    "        self.sen1 = SENBlock(128)\n",
    "\n",
    "        self.resblock7  = BasicBlockVarying(128,256, stride=2)\n",
    "        self.resblock8  = BasicBlockVarying(256,256)\n",
    "        self.resblock9  = BasicBlockVarying(256,256)\n",
    "        self.resblock10  = BasicBlockVarying(256,256)\n",
    "        self.resblock11  = BasicBlockVarying(256,256)\n",
    "        self.resblock12  = BasicBlockVarying(256,256)\n",
    "        self.sen2 = SENBlock(256)\n",
    "\n",
    "        self.resblock13 = BasicBlockVarying(256,512, stride=2)\n",
    "        self.resblock14  = BasicBlockVarying(512,512)\n",
    "        self.resblock15 = BasicBlockVarying(512,512)\n",
    "\n",
    "        self.c1 = nn.Conv2d(512, 1024, 3, padding=1 , stride=2)\n",
    "        self.c2 = nn.Conv2d(1024, 512, 1, padding=1)\n",
    "        self.gap0 = nn.AdaptiveAvgPool2d(1)\n",
    "        self.fc0 = nn.Linear(512, 5)\n",
    "\n",
    "\n",
    "\n",
    "    def forward(self, x):\n",
    "        x = self.c0(x)\n",
    "        x = self.maxp(x)\n",
    "\n",
    "        x = self.resblock0.forward(x)\n",
    "        x = self.resblock1.forward(x)\n",
    "        x = self.resblock2.forward(x)\n",
    "        x = self.sen0.forward(x)\n",
    "\n",
    "        x = self.resblock3.forward(x)\n",
    "        x = self.resblock4.forward(x)\n",
    "        x = self.resblock5.forward(x)\n",
    "        x = self.resblock6.forward(x)\n",
    "        x = self.sen1.forward(x)\n",
    "\n",
    "        x = self.resblock7.forward(x)\n",
    "        x = self.resblock8.forward(x)\n",
    "        x = self.resblock9.forward(x)\n",
    "        x = self.resblock10.forward(x)\n",
    "        x = self.resblock11.forward(x)\n",
    "        x = self.resblock12.forward(x)\n",
    "        x = self.sen2.forward(x)\n",
    "\n",
    "        x = self.resblock13.forward(x)\n",
    "        x = self.resblock14.forward(x)\n",
    "        x = self.resblock15.forward(x)\n",
    "        \n",
    "        x = self.c1(x)\n",
    "        x = self.c2(x)\n",
    "        x = self.gap0(x).squeeze()\n",
    "        x = self.fc0(x)\n",
    "\n",
    "\n",
    "        return x"
   ]
  },
  {
   "cell_type": "code",
   "execution_count": 61,
   "metadata": {},
   "outputs": [],
   "source": [
    "model = SenResNet()"
   ]
  },
  {
   "cell_type": "code",
   "execution_count": 62,
   "metadata": {},
   "outputs": [],
   "source": [
    "img_tensor  = img_tensor.unsqueeze(dim=0)"
   ]
  },
  {
   "cell_type": "code",
   "execution_count": 63,
   "metadata": {},
   "outputs": [
    {
     "name": "stdout",
     "output_type": "stream",
     "text": [
      "torch.Size([1, 64, 256, 171])\n",
      "torch.Size([1, 64, 256, 171])\n",
      "torch.Size([1, 64, 256, 171])\n",
      "torch.Size([1, 64, 256, 171])\n",
      "torch.Size([1, 64, 256, 171])\n",
      "torch.Size([1, 64, 256, 171])\n"
     ]
    },
    {
     "data": {
      "text/plain": [
       "torch.Size([5])"
      ]
     },
     "execution_count": 63,
     "metadata": {},
     "output_type": "execute_result"
    }
   ],
   "source": [
    "res  = model(img_tensor)\n",
    "res.shape"
   ]
  }
 ],
 "metadata": {
  "kernelspec": {
   "display_name": "base",
   "language": "python",
   "name": "python3"
  },
  "language_info": {
   "codemirror_mode": {
    "name": "ipython",
    "version": 3
   },
   "file_extension": ".py",
   "mimetype": "text/x-python",
   "name": "python",
   "nbconvert_exporter": "python",
   "pygments_lexer": "ipython3",
   "version": "3.12.2"
  }
 },
 "nbformat": 4,
 "nbformat_minor": 2
}
