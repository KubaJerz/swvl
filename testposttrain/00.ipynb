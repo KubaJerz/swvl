{
 "cells": [
  {
   "cell_type": "code",
   "execution_count": 382,
   "metadata": {},
   "outputs": [],
   "source": [
    "import torch.nn as nn\n",
    "import torch.nn.functional as F"
   ]
  },
  {
   "cell_type": "code",
   "execution_count": 383,
   "metadata": {},
   "outputs": [],
   "source": [
    "import torch\n",
    "import torchvision.models as models\n",
    "\n",
    "# Load pretrained backbone (e.g., ResNet50)\n",
    "backbone = models.resnet50(pretrained=True)\n",
    "\n",
    "# Save the pretrained weights\n",
    "torch.save(backbone.state_dict(), 'pretrained_backbone.pth')"
   ]
  },
  {
   "cell_type": "code",
   "execution_count": 384,
   "metadata": {},
   "outputs": [],
   "source": [
    "backbone_features = torch.nn.Sequential(*(list(backbone.children())[:-2]))"
   ]
  },
  {
   "cell_type": "code",
   "execution_count": 385,
   "metadata": {},
   "outputs": [
    {
     "data": {
      "text/plain": [
       "[Sequential(\n",
       "   (0): Bottleneck(\n",
       "     (conv1): Conv2d(512, 256, kernel_size=(1, 1), stride=(1, 1), bias=False)\n",
       "     (bn1): BatchNorm2d(256, eps=1e-05, momentum=0.1, affine=True, track_running_stats=True)\n",
       "     (conv2): Conv2d(256, 256, kernel_size=(3, 3), stride=(2, 2), padding=(1, 1), bias=False)\n",
       "     (bn2): BatchNorm2d(256, eps=1e-05, momentum=0.1, affine=True, track_running_stats=True)\n",
       "     (conv3): Conv2d(256, 1024, kernel_size=(1, 1), stride=(1, 1), bias=False)\n",
       "     (bn3): BatchNorm2d(1024, eps=1e-05, momentum=0.1, affine=True, track_running_stats=True)\n",
       "     (relu): ReLU(inplace=True)\n",
       "     (downsample): Sequential(\n",
       "       (0): Conv2d(512, 1024, kernel_size=(1, 1), stride=(2, 2), bias=False)\n",
       "       (1): BatchNorm2d(1024, eps=1e-05, momentum=0.1, affine=True, track_running_stats=True)\n",
       "     )\n",
       "   )\n",
       "   (1): Bottleneck(\n",
       "     (conv1): Conv2d(1024, 256, kernel_size=(1, 1), stride=(1, 1), bias=False)\n",
       "     (bn1): BatchNorm2d(256, eps=1e-05, momentum=0.1, affine=True, track_running_stats=True)\n",
       "     (conv2): Conv2d(256, 256, kernel_size=(3, 3), stride=(1, 1), padding=(1, 1), bias=False)\n",
       "     (bn2): BatchNorm2d(256, eps=1e-05, momentum=0.1, affine=True, track_running_stats=True)\n",
       "     (conv3): Conv2d(256, 1024, kernel_size=(1, 1), stride=(1, 1), bias=False)\n",
       "     (bn3): BatchNorm2d(1024, eps=1e-05, momentum=0.1, affine=True, track_running_stats=True)\n",
       "     (relu): ReLU(inplace=True)\n",
       "   )\n",
       "   (2): Bottleneck(\n",
       "     (conv1): Conv2d(1024, 256, kernel_size=(1, 1), stride=(1, 1), bias=False)\n",
       "     (bn1): BatchNorm2d(256, eps=1e-05, momentum=0.1, affine=True, track_running_stats=True)\n",
       "     (conv2): Conv2d(256, 256, kernel_size=(3, 3), stride=(1, 1), padding=(1, 1), bias=False)\n",
       "     (bn2): BatchNorm2d(256, eps=1e-05, momentum=0.1, affine=True, track_running_stats=True)\n",
       "     (conv3): Conv2d(256, 1024, kernel_size=(1, 1), stride=(1, 1), bias=False)\n",
       "     (bn3): BatchNorm2d(1024, eps=1e-05, momentum=0.1, affine=True, track_running_stats=True)\n",
       "     (relu): ReLU(inplace=True)\n",
       "   )\n",
       "   (3): Bottleneck(\n",
       "     (conv1): Conv2d(1024, 256, kernel_size=(1, 1), stride=(1, 1), bias=False)\n",
       "     (bn1): BatchNorm2d(256, eps=1e-05, momentum=0.1, affine=True, track_running_stats=True)\n",
       "     (conv2): Conv2d(256, 256, kernel_size=(3, 3), stride=(1, 1), padding=(1, 1), bias=False)\n",
       "     (bn2): BatchNorm2d(256, eps=1e-05, momentum=0.1, affine=True, track_running_stats=True)\n",
       "     (conv3): Conv2d(256, 1024, kernel_size=(1, 1), stride=(1, 1), bias=False)\n",
       "     (bn3): BatchNorm2d(1024, eps=1e-05, momentum=0.1, affine=True, track_running_stats=True)\n",
       "     (relu): ReLU(inplace=True)\n",
       "   )\n",
       "   (4): Bottleneck(\n",
       "     (conv1): Conv2d(1024, 256, kernel_size=(1, 1), stride=(1, 1), bias=False)\n",
       "     (bn1): BatchNorm2d(256, eps=1e-05, momentum=0.1, affine=True, track_running_stats=True)\n",
       "     (conv2): Conv2d(256, 256, kernel_size=(3, 3), stride=(1, 1), padding=(1, 1), bias=False)\n",
       "     (bn2): BatchNorm2d(256, eps=1e-05, momentum=0.1, affine=True, track_running_stats=True)\n",
       "     (conv3): Conv2d(256, 1024, kernel_size=(1, 1), stride=(1, 1), bias=False)\n",
       "     (bn3): BatchNorm2d(1024, eps=1e-05, momentum=0.1, affine=True, track_running_stats=True)\n",
       "     (relu): ReLU(inplace=True)\n",
       "   )\n",
       "   (5): Bottleneck(\n",
       "     (conv1): Conv2d(1024, 256, kernel_size=(1, 1), stride=(1, 1), bias=False)\n",
       "     (bn1): BatchNorm2d(256, eps=1e-05, momentum=0.1, affine=True, track_running_stats=True)\n",
       "     (conv2): Conv2d(256, 256, kernel_size=(3, 3), stride=(1, 1), padding=(1, 1), bias=False)\n",
       "     (bn2): BatchNorm2d(256, eps=1e-05, momentum=0.1, affine=True, track_running_stats=True)\n",
       "     (conv3): Conv2d(256, 1024, kernel_size=(1, 1), stride=(1, 1), bias=False)\n",
       "     (bn3): BatchNorm2d(1024, eps=1e-05, momentum=0.1, affine=True, track_running_stats=True)\n",
       "     (relu): ReLU(inplace=True)\n",
       "   )\n",
       " ),\n",
       " Sequential(\n",
       "   (0): Bottleneck(\n",
       "     (conv1): Conv2d(1024, 512, kernel_size=(1, 1), stride=(1, 1), bias=False)\n",
       "     (bn1): BatchNorm2d(512, eps=1e-05, momentum=0.1, affine=True, track_running_stats=True)\n",
       "     (conv2): Conv2d(512, 512, kernel_size=(3, 3), stride=(2, 2), padding=(1, 1), bias=False)\n",
       "     (bn2): BatchNorm2d(512, eps=1e-05, momentum=0.1, affine=True, track_running_stats=True)\n",
       "     (conv3): Conv2d(512, 2048, kernel_size=(1, 1), stride=(1, 1), bias=False)\n",
       "     (bn3): BatchNorm2d(2048, eps=1e-05, momentum=0.1, affine=True, track_running_stats=True)\n",
       "     (relu): ReLU(inplace=True)\n",
       "     (downsample): Sequential(\n",
       "       (0): Conv2d(1024, 2048, kernel_size=(1, 1), stride=(2, 2), bias=False)\n",
       "       (1): BatchNorm2d(2048, eps=1e-05, momentum=0.1, affine=True, track_running_stats=True)\n",
       "     )\n",
       "   )\n",
       "   (1): Bottleneck(\n",
       "     (conv1): Conv2d(2048, 512, kernel_size=(1, 1), stride=(1, 1), bias=False)\n",
       "     (bn1): BatchNorm2d(512, eps=1e-05, momentum=0.1, affine=True, track_running_stats=True)\n",
       "     (conv2): Conv2d(512, 512, kernel_size=(3, 3), stride=(1, 1), padding=(1, 1), bias=False)\n",
       "     (bn2): BatchNorm2d(512, eps=1e-05, momentum=0.1, affine=True, track_running_stats=True)\n",
       "     (conv3): Conv2d(512, 2048, kernel_size=(1, 1), stride=(1, 1), bias=False)\n",
       "     (bn3): BatchNorm2d(2048, eps=1e-05, momentum=0.1, affine=True, track_running_stats=True)\n",
       "     (relu): ReLU(inplace=True)\n",
       "   )\n",
       "   (2): Bottleneck(\n",
       "     (conv1): Conv2d(2048, 512, kernel_size=(1, 1), stride=(1, 1), bias=False)\n",
       "     (bn1): BatchNorm2d(512, eps=1e-05, momentum=0.1, affine=True, track_running_stats=True)\n",
       "     (conv2): Conv2d(512, 512, kernel_size=(3, 3), stride=(1, 1), padding=(1, 1), bias=False)\n",
       "     (bn2): BatchNorm2d(512, eps=1e-05, momentum=0.1, affine=True, track_running_stats=True)\n",
       "     (conv3): Conv2d(512, 2048, kernel_size=(1, 1), stride=(1, 1), bias=False)\n",
       "     (bn3): BatchNorm2d(2048, eps=1e-05, momentum=0.1, affine=True, track_running_stats=True)\n",
       "     (relu): ReLU(inplace=True)\n",
       "   )\n",
       " ),\n",
       " AdaptiveAvgPool2d(output_size=(1, 1)),\n",
       " Linear(in_features=2048, out_features=1000, bias=True)]"
      ]
     },
     "execution_count": 385,
     "metadata": {},
     "output_type": "execute_result"
    }
   ],
   "source": [
    "list(backbone.children())[-4:]"
   ]
  },
  {
   "cell_type": "code",
   "execution_count": 386,
   "metadata": {},
   "outputs": [],
   "source": [
    "import torch\n",
    "\n",
    "def diou_loss(preds, targets):\n",
    "    \"\"\"\n",
    "    Calculate DIoU loss between prediction and target boxes.\n",
    "    \n",
    "    Args...\n",
    "        preds... Predicted bounding boxes in format (x, y, width, height)\n",
    "        targets... Target bounding boxes in format (x, y, width, height)\n",
    "        \n",
    "    Returns...\n",
    "        DIoU loss value\n",
    "    \"\"\"\n",
    "    # Convert (x, y, width, height) to (x1, y1, x2, y2)\n",
    "    pred_x1 = preds[..., 0] - preds[..., 2] / 2\n",
    "    pred_y1 = preds[..., 1] - preds[..., 3] / 2\n",
    "    pred_x2 = preds[..., 0] + preds[..., 2] / 2\n",
    "    pred_y2 = preds[..., 1] + preds[..., 3] / 2\n",
    "    \n",
    "    target_x1 = targets[..., 0] - targets[..., 2] / 2\n",
    "    target_y1 = targets[..., 1] - targets[..., 3] / 2\n",
    "    target_x2 = targets[..., 0] + targets[..., 2] / 2\n",
    "    target_y2 = targets[..., 1] + targets[..., 3] / 2\n",
    "    \n",
    "    # Calculate intersection area\n",
    "    x1 = torch.max(pred_x1, target_x1)\n",
    "    y1 = torch.max(pred_y1, target_y1)\n",
    "    x2 = torch.min(pred_x2, target_x2)\n",
    "    y2 = torch.min(pred_y2, target_y2)\n",
    "    \n",
    "    intersection = torch.clamp((x2 - x1), min=0) * torch.clamp((y2 - y1), min=0)\n",
    "    \n",
    "    # Calculate union area\n",
    "    pred_area = (pred_x2 - pred_x1) * (pred_y2 - pred_y1)\n",
    "    target_area = (target_x2 - target_x1) * (target_y2 - target_y1)\n",
    "    union = pred_area + target_area - intersection\n",
    "    \n",
    "    # Calculate IoU\n",
    "    iou = intersection / (union + 1e-7)\n",
    "    \n",
    "    # Calculate the smallest enclosing box\n",
    "    c_x1 = torch.min(pred_x1, target_x1)\n",
    "    c_y1 = torch.min(pred_y1, target_y1)\n",
    "    c_x2 = torch.max(pred_x2, target_x2)\n",
    "    c_y2 = torch.max(pred_y2, target_y2)\n",
    "    \n",
    "    # Calculate the diagonal distance of the smallest enclosing box\n",
    "    c_diag = torch.pow(c_x2 - c_x1, 2) + torch.pow(c_y2 - c_y1, 2)\n",
    "    \n",
    "    # Calculate the Euclidean distance between centers\n",
    "    center_dist = torch.pow(preds[..., 0] - targets[..., 0], 2) + torch.pow(preds[..., 1] - targets[..., 1], 2)\n",
    "    \n",
    "    # Calculate DIoU\n",
    "    diou = iou - center_dist / (c_diag + 1e-7)\n",
    "    \n",
    "    # Return DIoU loss\n",
    "    return (1 - diou).mean()"
   ]
  },
  {
   "cell_type": "code",
   "execution_count": 387,
   "metadata": {},
   "outputs": [],
   "source": [
    "\n",
    "\n",
    "# class IoULoss(nn.Module):\n",
    "#     def __init__(self):\n",
    "#         super(IoULoss, self).__init__()\n",
    "\n",
    "#     def forward(self, pred, target):\n",
    "#         return bbox_iou(pred, target).mean()\n",
    "    \n",
    "class DIoULoss(nn.Module):\n",
    "    def __init__(self):\n",
    "        super(DIoULoss, self).__init__()\n",
    "\n",
    "    def forward(self, pred, target):\n",
    "        return diou_loss(pred, target)\n",
    "\n"
   ]
  },
  {
   "cell_type": "code",
   "execution_count": 388,
   "metadata": {},
   "outputs": [],
   "source": [
    "\n",
    "import torch\n",
    "import torch.nn as nn\n",
    "import numpy as np\n",
    " \n",
    " \n",
    "class SIoU(nn.Module):\n",
    "    # SIoU Loss https://arxiv.org/pdf/2205.12740.pdf\n",
    "   def __init__(self, x1y1x2y2=False, eps=1e-7):\n",
    "     super(SIoU, self).__init__()\n",
    "     self.x1y1x2y2 = x1y1x2y2\n",
    "     self.eps = eps\n",
    " \n",
    " \n",
    "         \n",
    "   def forward(self, box1, box2):\n",
    " \n",
    " \n",
    "       # Get the coordinates of bounding boxes\n",
    "       if self.x1y1x2y2:  # x1, y1, x2, y2 = box1\n",
    "           b1_x1, b1_y1, b1_x2, b1_y2 = box1[0], box1[1], box1[2], box1[3]\n",
    "           b2_x1, b2_y1, b2_x2, b2_y2 = box2[0], box2[1], box2[2], box2[3]\n",
    "       else:  # transform from xywh to xyxy\n",
    "           b1_x1, b1_x2 = box1[0] - box1[2] / 2, box1[0] + box1[2] / 2\n",
    "           b1_y1, b1_y2 = box1[1] - box1[3] / 2, box1[1] + box1[3] / 2\n",
    "           b2_x1, b2_x2 = box2[0] - box2[2] / 2, box2[0] + box2[2] / 2\n",
    "           b2_y1, b2_y2 = box2[1] - box2[3] / 2, box2[1] + box2[3] / 2\n",
    " \n",
    " \n",
    "       # Intersection area\n",
    "       inter = (torch.min(b1_x2, b2_x2) - torch.max(b1_x1, b2_x1)).clamp(0) * \\\n",
    "               (torch.min(b1_y2, b2_y2) - torch.max(b1_y1, b2_y1)).clamp(0)\n",
    " \n",
    " \n",
    "       # Union Area\n",
    "       w1, h1 = b1_x2 - b1_x1, b1_y2 - b1_y1 + self.eps\n",
    "       w2, h2 = b2_x2 - b2_x1, b2_y2 - b2_y1 + self.eps\n",
    "       union = w1 * h1 + w2 * h2 - inter + self.eps\n",
    " \n",
    "       # IoU value of the bounding boxes\n",
    "       iou = inter / union\n",
    "       cw = torch.max(b1_x2, b2_x2) - torch.min(b1_x1, b2_x1)  # convex (smallest enclosing box) width\n",
    "       ch = torch.max(b1_y2, b2_y2) - torch.min(b1_y1, b2_y1)  # convex height\n",
    "       s_cw = (b2_x1 + b2_x2 - b1_x1 - b1_x2) * 0.5\n",
    "       s_ch = (b2_y1 + b2_y2 - b1_y1 - b1_y2) * 0.5\n",
    "       sigma = torch.pow(s_cw ** 2 + s_ch ** 2, 0.5) + self.eps\n",
    "       sin_alpha_1 = torch.abs(s_cw) / sigma\n",
    "       sin_alpha_2 = torch.abs(s_ch) / sigma\n",
    "       threshold = pow(2, 0.5) / 2\n",
    "       sin_alpha = torch.where(sin_alpha_1 > threshold, sin_alpha_2, sin_alpha_1)\n",
    "        \n",
    "       # Angle Cost\n",
    "       angle_cost = 1 - 2 * torch.pow( torch.sin(torch.arcsin(sin_alpha) - np.pi/4), 2)\n",
    "        \n",
    "       # Distance Cost\n",
    "       rho_x = (s_cw / (cw + self.eps)) ** 2\n",
    "       rho_y = (s_ch / (ch + self.eps)) ** 2\n",
    "       gamma = 2 - angle_cost\n",
    "       distance_cost = 2 - torch.exp(gamma * rho_x) - torch.exp(gamma * rho_y)\n",
    "        \n",
    "       # Shape Cost\n",
    "       omiga_w = torch.abs(w1 - w2) / torch.max(w1, w2)\n",
    "       omiga_h = torch.abs(h1 - h2) / torch.max(h1, h2)\n",
    "       shape_cost = torch.pow(1 - torch.exp(-1 * omiga_w), 4) + torch.pow(1 - torch.exp(-1 * omiga_h), 4)\n",
    "       return (1 - (iou + 0.5 * (distance_cost + shape_cost))).mean()"
   ]
  },
  {
   "cell_type": "code",
   "execution_count": 389,
   "metadata": {},
   "outputs": [],
   "source": [
    "# class SingleFaceRegressionHead(nn.Module):\n",
    "#     def __init__(self, in_channels, hidden_dim=256):\n",
    "#         super(SingleFaceRegressionHead, self).__init__()\n",
    "        \n",
    "#         # Feature processing\n",
    "#         self.conv1 = nn.Conv2d(in_channels, hidden_dim, kernel_size=3, padding=1)\n",
    "#         self.act1 = nn.ReLU(inplace=True)\n",
    "#         self.conv2 = nn.Conv2d(hidden_dim, hidden_dim, kernel_size=1)\n",
    "#         self.act2 = nn.ReLU(inplace=True)\n",
    "#         self.conv3 = nn.Conv2d(hidden_dim, hidden_dim, kernel_size=1)\n",
    "#         self.act3 = nn.ReLU(inplace=True)\n",
    "#         self.conv4 = nn.Conv2d(hidden_dim, hidden_dim, kernel_size=1)\n",
    "#         self.act4 = nn.ReLU(inplace=True)\n",
    "        \n",
    "        \n",
    "#         # Global average pooling to collapse spatial dimensions\n",
    "#         self.global_pool = nn.AdaptiveAvgPool2d(1)\n",
    "        \n",
    "#         # Final regression layer for single bbox\n",
    "#         self.l0 = nn.Linear(hidden_dim, 1024)  # [x, y, w, h]\n",
    "#         self.act5 = nn.ReLU(inplace=True)\n",
    "#         self.bbox_reg = nn.Linear(1024, 4)  # [x, y, w, h]\n",
    "        \n",
    "#         self._initialize_weights()\n",
    "    \n",
    "#     def forward(self, x):\n",
    "#         # Process features\n",
    "#         x = self.act1(self.conv1(x))\n",
    "#         x = self.act2(self.conv2(x))\n",
    "#         x = self.act3(self.conv3(x))\n",
    "#         x = self.act4(self.conv4(x))\n",
    "\n",
    "#         # Global pooling to get a single feature vector\n",
    "#         x = self.global_pool(x)\n",
    "\n",
    "#         # x = x.view(x.size(0), -1)  # Flatten: [batch_size, hidden_dim]\n",
    "#         # print(x.shape)\n",
    "#         # x = torch.flatten(x, start_dim=2)        \n",
    "#         # print(x.shape)\n",
    "#         # Output a single bounding box per image\n",
    "#         x = x.squeeze()\n",
    "#         x = self.act5(self.l0(x))  # Shape: [batch_size, 4]\n",
    "#         bbox = self.bbox_reg(x)  # Shape: [batch_size, 4]\n",
    "        \n",
    "#         return bbox\n",
    "    \n",
    "#     def _initialize_weights(self):\n",
    "#         for m in self.modules():\n",
    "#             if isinstance(m, nn.Conv2d):\n",
    "#                 nn.init.normal_(m.weight, std=0.01)\n",
    "#                 if m.bias is not None:\n",
    "#                     nn.init.constant_(m.bias, 0)\n",
    "#             elif isinstance(m, nn.Linear):\n",
    "#                 nn.init.normal_(m.weight, std=0.01)\n",
    "#                 nn.init.constant_(m.bias, 0)"
   ]
  },
  {
   "cell_type": "code",
   "execution_count": 390,
   "metadata": {},
   "outputs": [],
   "source": [
    "class RPNStyleRegressionHead(nn.Module):\n",
    "    \"\"\"\n",
    "    A regression head inspired by Faster R-CNN's Region Proposal Network.\n",
    "    Designed to predict bounding box coordinates for face detection.\n",
    "    \"\"\"\n",
    "    def __init__(self, in_channels, intermediate_channels=512, num_anchors=9):\n",
    "        super(RPNStyleRegressionHead, self).__init__()\n",
    "        \n",
    "        self.num_anchors = num_anchors  # Number of anchors per location\n",
    "        \n",
    "        # Shared intermediate convolutional layer (3x3 conv as in Faster R-CNN)\n",
    "        self.conv = nn.Conv2d(in_channels, intermediate_channels, kernel_size=3, padding=1)\n",
    "        \n",
    "        # Regression layer for bounding box coordinates (x, y, w, h)\n",
    "        # Each anchor produces 4 coordinates\n",
    "        self.bbox_pred = nn.Conv2d(intermediate_channels, num_anchors * 4, kernel_size=1)\n",
    "        \n",
    "        # Initialize weights\n",
    "        self._initialize_weights()\n",
    "    \n",
    "    def _initialize_weights(self):\n",
    "        # Weight initialization is important for training stability\n",
    "        for module in self.modules():\n",
    "            if isinstance(module, nn.Conv2d):\n",
    "                nn.init.normal_(module.weight, std=0.01)\n",
    "                if module.bias is not None:\n",
    "                    nn.init.constant_(module.bias, 0)\n",
    "    \n",
    "    def forward(self, x):\n",
    "        # Apply shared convolutional layer\n",
    "        x = F.relu(self.conv(x))\n",
    "        \n",
    "        # Apply bounding box regression layer\n",
    "        bbox_deltas = self.bbox_pred(x)\n",
    "        \n",
    "        # Reshape output for easier processing\n",
    "        # From [batch_size, num_anchors*4, height, width] to [batch_size, height, width, num_anchors*4]\n",
    "        bbox_deltas = bbox_deltas.permute(0, 2, 3, 1).contiguous()\n",
    "        \n",
    "        # Reshape to [batch_size, height*width*num_anchors, 4]\n",
    "        batch_size = bbox_deltas.size(0)\n",
    "        bbox_deltas = bbox_deltas.view(batch_size, -1, 4)\n",
    "        \n",
    "        return bbox_deltas\n",
    "\n",
    "\n",
    "class FaceDetector(nn.Module):\n",
    "    def __init__(self, backbone_features, num_anchors=9):\n",
    "        super(FaceDetector, self).__init__()\n",
    "        self.backbone = backbone_features\n",
    "        \n",
    "        # Replace the simple regression head with our RPN-style head\n",
    "        self.regression_head = RPNStyleRegressionHead(2048, 512, num_anchors)\n",
    "        \n",
    "        # Anchor generation parameters\n",
    "        self.anchor_scales = [8, 16, 32]\n",
    "        self.anchor_ratios = [0.5, 1, 2]\n",
    "    \n",
    "    def forward(self, x):\n",
    "        # Extract features from backbone\n",
    "        features = self.backbone(x)\n",
    "        \n",
    "        # Get bounding box predictions from regression head\n",
    "        bbox_deltas = self.regression_head(features)\n",
    "        \n",
    "        # Generate anchors based on feature map size (during inference)\n",
    "        if not self.training:\n",
    "            # Get feature map dimensions\n",
    "            _, _, feat_h, feat_w = features.size()\n",
    "            \n",
    "            # Generate anchors\n",
    "            anchors = self._generate_anchors(feat_h, feat_w, x.device)\n",
    "            \n",
    "            # Apply deltas to anchors to get final predictions\n",
    "            bbox_pred = self._apply_deltas_to_anchors(anchors, bbox_deltas)\n",
    "            \n",
    "            return bbox_pred\n",
    "        \n",
    "        return bbox_deltas\n",
    "    \n",
    "    def _generate_anchors(self, feat_h, feat_w, device):\n",
    "        \"\"\"\n",
    "        Generate anchors for the given feature map size.\n",
    "        \"\"\"\n",
    "        # Base anchor size (interpreted as the size of anchor with scale=1, ratio=1)\n",
    "        base_size = 16\n",
    "        \n",
    "        # Generate all combinations of scales and ratios\n",
    "        anchors = []\n",
    "        for scale in self.anchor_scales:\n",
    "            for ratio in self.anchor_ratios:\n",
    "                h = base_size * scale * math.sqrt(1.0 / ratio)\n",
    "                w = base_size * scale * math.sqrt(ratio)\n",
    "                \n",
    "                # Center coordinates (0, 0) - will be shifted later\n",
    "                anchors.append([-w/2, -h/2, w/2, h/2])\n",
    "        \n",
    "        anchors = torch.tensor(anchors, device=device)\n",
    "        \n",
    "        # Create shifts based on feature map size\n",
    "        shift_x = torch.arange(0, feat_w, device=device) * base_size\n",
    "        shift_y = torch.arange(0, feat_h, device=device) * base_size\n",
    "        \n",
    "        shift_y, shift_x = torch.meshgrid(shift_y, shift_x)\n",
    "        shift_x = shift_x.reshape(-1)\n",
    "        shift_y = shift_y.reshape(-1)\n",
    "        \n",
    "        # Create 4-element shifts (for x1, y1, x2, y2)\n",
    "        shifts = torch.stack([shift_x, shift_y, shift_x, shift_y], dim=1)\n",
    "        \n",
    "        # Apply shifts to all anchors\n",
    "        # shifts shape: [feat_h*feat_w, 4]\n",
    "        # anchors shape: [num_anchors, 4]\n",
    "        k = shifts.shape[0]  # number of feature map locations\n",
    "        a = anchors.shape[0]  # number of anchors per location\n",
    "        \n",
    "        # Reshape for broadcasting\n",
    "        # [k, a, 4]\n",
    "        all_anchors = (shifts.view(k, 1, 4) + anchors.view(1, a, 4)).reshape(-1, 4)\n",
    "        \n",
    "        return all_anchors\n",
    "    \n",
    "    def _apply_deltas_to_anchors(self, anchors, deltas):\n",
    "        \"\"\"\n",
    "        Apply predicted deltas to anchors to get final box coordinates.\n",
    "        \n",
    "        deltas: [batch_size, num_anchors, 4]\n",
    "        anchors: [num_anchors, 4]\n",
    "        \"\"\"\n",
    "        # Get anchor dimensions\n",
    "        widths = anchors[:, 2] - anchors[:, 0]\n",
    "        heights = anchors[:, 3] - anchors[:, 1]\n",
    "        ctr_x = anchors[:, 0] + 0.5 * widths\n",
    "        ctr_y = anchors[:, 1] + 0.5 * heights\n",
    "        \n",
    "        # Unpack deltas\n",
    "        dx = deltas[:, :, 0]\n",
    "        dy = deltas[:, :, 1]\n",
    "        dw = deltas[:, :, 2]\n",
    "        dh = deltas[:, :, 3]\n",
    "        \n",
    "        # Apply deltas\n",
    "        pred_ctr_x = dx * widths.unsqueeze(0) + ctr_x.unsqueeze(0)\n",
    "        pred_ctr_y = dy * heights.unsqueeze(0) + ctr_y.unsqueeze(0)\n",
    "        pred_w = torch.exp(dw) * widths.unsqueeze(0)\n",
    "        pred_h = torch.exp(dh) * heights.unsqueeze(0)\n",
    "        \n",
    "        # Convert to x1, y1, x2, y2 format\n",
    "        pred_x1 = pred_ctr_x - 0.5 * pred_w\n",
    "        pred_y1 = pred_ctr_y - 0.5 * pred_h\n",
    "        pred_x2 = pred_ctr_x + 0.5 * pred_w\n",
    "        pred_y2 = pred_ctr_y + 0.5 * pred_h\n",
    "        \n",
    "        # Stack predictions\n",
    "        pred_boxes = torch.stack([pred_x1, pred_y1, pred_x2, pred_y2], dim=2)\n",
    "        \n",
    "        return pred_boxes"
   ]
  },
  {
   "cell_type": "code",
   "execution_count": 391,
   "metadata": {},
   "outputs": [],
   "source": [
    "# class FaceDetector(nn.Module):\n",
    "#     def __init__(self, backbone_features):\n",
    "#         super(FaceDetector, self).__init__()\n",
    "#         self.backbone = backbone_features\n",
    "        \n",
    "#         self.regression_head = SingleFaceRegressionHead(2048,2048)\n",
    "\n",
    "#     def forward(self, x):\n",
    "#         features = self.backbone(x)\n",
    "#         bbox_pred = self.regression_head(features)\n",
    "        \n",
    "#         return bbox_pred"
   ]
  },
  {
   "cell_type": "code",
   "execution_count": 392,
   "metadata": {},
   "outputs": [],
   "source": [
    "from tqdm import tqdm\n",
    "import os\n",
    "from torch.utils.data import TensorDataset, DataLoader\n",
    "import matplotlib.pyplot as plt"
   ]
  },
  {
   "cell_type": "code",
   "execution_count": 393,
   "metadata": {},
   "outputs": [],
   "source": [
    "train_path = '/home/kuba/Documents/data/raw/single-face-tensors/train'\n",
    "test_path = '/home/kuba/Documents/data/raw/single-face-tensors/test'\n"
   ]
  },
  {
   "cell_type": "code",
   "execution_count": 394,
   "metadata": {},
   "outputs": [
    {
     "name": "stderr",
     "output_type": "stream",
     "text": [
      " 27%|██▋       | 1590/5791 [00:00<00:01, 4033.95it/s]"
     ]
    },
    {
     "name": "stderr",
     "output_type": "stream",
     "text": [
      "100%|██████████| 5791/5791 [00:02<00:00, 2691.47it/s]\n"
     ]
    }
   ],
   "source": [
    "imgs, bboxs = [], []\n",
    "for file in tqdm(sorted(os.listdir(train_path))):\n",
    "    X, y = torch.load(f'{train_path}/{file}')\n",
    "    imgs.append(X)\n",
    "    bboxs.append(y)\n",
    "\n",
    "X, y = torch.stack(imgs), torch.stack(bboxs)"
   ]
  },
  {
   "cell_type": "code",
   "execution_count": 395,
   "metadata": {},
   "outputs": [],
   "source": [
    "train_dataset = TensorDataset(X,y)"
   ]
  },
  {
   "cell_type": "code",
   "execution_count": 396,
   "metadata": {},
   "outputs": [
    {
     "name": "stderr",
     "output_type": "stream",
     "text": [
      "100%|██████████| 1469/1469 [00:00<00:00, 3740.38it/s]\n"
     ]
    }
   ],
   "source": [
    "imgs, bboxs = [], []\n",
    "for file in tqdm(sorted(os.listdir(test_path))):\n",
    "    X, y = torch.load(f'{test_path}/{file}')\n",
    "    imgs.append(X)\n",
    "    bboxs.append(y)\n",
    "\n",
    "X, y = torch.stack(imgs), torch.stack(bboxs)\n",
    "test_dataset = TensorDataset(X,y)\n"
   ]
  },
  {
   "cell_type": "code",
   "execution_count": 397,
   "metadata": {},
   "outputs": [],
   "source": [
    "train_loader = DataLoader(train_dataset, batch_size=512)\n",
    "test_loader = DataLoader(test_dataset, batch_size=512)\n"
   ]
  },
  {
   "cell_type": "code",
   "execution_count": 398,
   "metadata": {},
   "outputs": [],
   "source": [
    "model = FaceDetector(backbone_features)\n",
    "# model.load_state_dict(torch.load('/home/kuba/projects/swvl/testposttrain/outputmodel.pt', weights_only=True))"
   ]
  },
  {
   "cell_type": "code",
   "execution_count": 399,
   "metadata": {},
   "outputs": [],
   "source": [
    "#lets freeze the weights in the backbone\n",
    "for param in model.backbone.parameters():\n",
    "    param.requires_grad = False\n"
   ]
  },
  {
   "cell_type": "code",
   "execution_count": 404,
   "metadata": {},
   "outputs": [],
   "source": [
    "# optimizer = torch.optim.Adam(model.regression_head.parameters(), lr=0.001)\n",
    "\n",
    "optimizer = torch.optim.Adam(model.regression_head.parameters(), lr=0.001)\n",
    "criterion = SIoU()"
   ]
  },
  {
   "cell_type": "code",
   "execution_count": 412,
   "metadata": {},
   "outputs": [],
   "source": [
    "lossi = []\n",
    "devlossi = []"
   ]
  },
  {
   "cell_type": "code",
   "execution_count": 414,
   "metadata": {},
   "outputs": [],
   "source": [
    "device = 'cuda:0'\n",
    "model = model.to(device)"
   ]
  },
  {
   "cell_type": "code",
   "execution_count": 415,
   "metadata": {},
   "outputs": [
    {
     "name": "stderr",
     "output_type": "stream",
     "text": [
      "100%|██████████| 15/15 [01:39<00:00,  6.63s/it]\n"
     ]
    },
    {
     "data": {
      "text/plain": [
       "[<matplotlib.lines.Line2D at 0x7c1a0375d420>]"
      ]
     },
     "execution_count": 415,
     "metadata": {},
     "output_type": "execute_result"
    },
    {
     "data": {
      "image/png": "[encoded data removed]",
      "text/plain": [
       "<Figure size 640x480 with 1 Axes>"
      ]
     },
     "metadata": {},
     "output_type": "display_data"
    }
   ],
   "source": [
    "for epoch in tqdm(range(15)):\n",
    "\n",
    "    loss_total = 0\n",
    "    for X_batch, y_batch in train_loader:\n",
    "        X_batch, y_batch = X_batch.to(device), y_batch.to(device)\n",
    "        logits = model(X_batch)\n",
    "        loss = criterion(logits, y_batch)\n",
    "        optimizer.zero_grad()\n",
    "        loss.backward()\n",
    "        optimizer.step()\n",
    "        loss_total += loss.item()\n",
    "        \n",
    "    lossi.append(loss_total / len(train_loader))\n",
    "\n",
    "    loss_dev = 0\n",
    "    with torch.no_grad():\n",
    "        for X_batch, y_batch in test_loader:\n",
    "            X_batch, y_batch = X_batch.to(device), y_batch.to(device)\n",
    "            logits = model(X_batch)\n",
    "            loss = criterion(logits, y_batch)\n",
    "            loss_dev += loss.item()\n",
    "\n",
    "    devlossi.append(loss_dev / len(test_loader))\n",
    "\n",
    "\n",
    "plt.plot(lossi)\n",
    "plt.plot(devlossi)"
   ]
  },
  {
   "cell_type": "code",
   "execution_count": null,
   "metadata": {},
   "outputs": [],
   "source": []
  },
  {
   "cell_type": "code",
   "execution_count": 410,
   "metadata": {},
   "outputs": [
    {
     "data": {
      "text/plain": [
       "1.4122824668884277"
      ]
     },
     "execution_count": 410,
     "metadata": {},
     "output_type": "execute_result"
    }
   ],
   "source": [
    "min(lossi)"
   ]
  },
  {
   "cell_type": "code",
   "execution_count": null,
   "metadata": {},
   "outputs": [],
   "source": [
    "for group in optimizer.param_groups:\n",
    "    group['lr'] = 0.00003\n"
   ]
  },
  {
   "cell_type": "code",
   "execution_count": 408,
   "metadata": {},
   "outputs": [],
   "source": [
    "def calculate_center_coordinates(im, bbox_pred):\n",
    "    center_x_pxl = int(len(im[0]) * bbox_pred[0]) #img width * percent x\n",
    "    center_y_pxl = int(len(im) * bbox_pred[1]) #img height * percent y\n",
    "    return center_x_pxl, center_y_pxl\n",
    "\n",
    "def calculate_box_dimensions(im, center_x_pxl, center_y_pxl, bbox_pred):\n",
    "    half_width = int(len(im[0]) * (bbox_pred[2] / 2))\n",
    "    half_height = int(len(im) * (bbox_pred[3] / 2))\n",
    "    \n",
    "    return {\n",
    "        'y0': center_y_pxl + half_height,\n",
    "        'y1': center_y_pxl - half_height,\n",
    "        'x0': center_x_pxl + half_width,\n",
    "        'x1': center_x_pxl - half_width,\n",
    "        'xmin': center_x_pxl - half_width,\n",
    "        'xmax': center_x_pxl + half_width,\n",
    "        'ymin': center_y_pxl - half_height,\n",
    "        'ymax': center_y_pxl + half_height\n",
    "    }\n",
    "\n",
    "def visualize_prediction(img_tensor, bbox_pred, epoch):\n",
    "    im = img_tensor.squeeze(0).permute(1, 2, 0).numpy()\n",
    "    \n",
    "    center_x_pxl, center_y_pxl = calculate_center_coordinates(im, bbox_pred)\n",
    "    coords = calculate_box_dimensions(im, center_x_pxl, center_y_pxl, bbox_pred)\n",
    "    \n",
    "    plt.imshow(im)\n",
    "    plt.plot(center_x_pxl, center_y_pxl, 'ro')\n",
    "    \n",
    "    # horizontal lines\n",
    "    plt.hlines(coords['y0'], xmin=coords['xmin'], xmax=coords['xmax'], colors='red')\n",
    "    plt.hlines(coords['y1'], xmin=coords['xmin'], xmax=coords['xmax'], colors='red')\n",
    "    \n",
    "    # vertical lines\n",
    "    plt.vlines(coords['x0'], coords['ymin'], coords['ymax'], colors='red')\n",
    "    plt.vlines(coords['x1'], coords['ymin'], coords['ymax'], colors='red')\n",
    "    \n",
    "    plt.title(f'Epoch {epoch}')\n",
    "    plt.show()"
   ]
  },
  {
   "cell_type": "code",
   "execution_count": 409,
   "metadata": {},
   "outputs": [
    {
     "ename": "ValueError",
     "evalue": "only one element tensors can be converted to Python scalars",
     "output_type": "error",
     "traceback": [
      "\u001b[0;31m---------------------------------------------------------------------------\u001b[0m",
      "\u001b[0;31mValueError\u001b[0m                                Traceback (most recent call last)",
      "Cell \u001b[0;32mIn[409], line 5\u001b[0m\n\u001b[1;32m      3\u001b[0m model_cpu \u001b[38;5;241m=\u001b[39m model\u001b[38;5;241m.\u001b[39mcpu()\n\u001b[1;32m      4\u001b[0m logits \u001b[38;5;241m=\u001b[39m (model_cpu(X_batch[img_num]\u001b[38;5;241m.\u001b[39mcpu()\u001b[38;5;241m.\u001b[39munsqueeze(dim\u001b[38;5;241m=\u001b[39m\u001b[38;5;241m0\u001b[39m)))\u001b[38;5;241m.\u001b[39msqueeze()\n\u001b[0;32m----> 5\u001b[0m \u001b[43mvisualize_prediction\u001b[49m\u001b[43m(\u001b[49m\u001b[43mX_batch\u001b[49m\u001b[43m[\u001b[49m\u001b[43mimg_num\u001b[49m\u001b[43m]\u001b[49m\u001b[38;5;241;43m.\u001b[39;49m\u001b[43mcpu\u001b[49m\u001b[43m(\u001b[49m\u001b[43m)\u001b[49m\u001b[43m,\u001b[49m\u001b[43m \u001b[49m\u001b[43mlogits\u001b[49m\u001b[38;5;241;43m.\u001b[39;49m\u001b[43mcpu\u001b[49m\u001b[43m(\u001b[49m\u001b[43m)\u001b[49m\u001b[43m,\u001b[49m\u001b[43m \u001b[49m\u001b[38;5;124;43m'\u001b[39;49m\u001b[38;5;124;43mN/A\u001b[39;49m\u001b[38;5;124;43m'\u001b[39;49m\u001b[43m)\u001b[49m\n\u001b[1;32m      6\u001b[0m visualize_prediction(X_batch[img_num]\u001b[38;5;241m.\u001b[39mcpu(), y_batch[img_num]\u001b[38;5;241m.\u001b[39mcpu(), \u001b[38;5;124m'\u001b[39m\u001b[38;5;124mN/A\u001b[39m\u001b[38;5;124m'\u001b[39m)\n\u001b[1;32m      8\u001b[0m criterion(logits,y_batch[img_num]\u001b[38;5;241m.\u001b[39mcpu())\u001b[38;5;241m.\u001b[39mitem()\n",
      "Cell \u001b[0;32mIn[408], line 24\u001b[0m, in \u001b[0;36mvisualize_prediction\u001b[0;34m(img_tensor, bbox_pred, epoch)\u001b[0m\n\u001b[1;32m     21\u001b[0m \u001b[38;5;28;01mdef\u001b[39;00m \u001b[38;5;21mvisualize_prediction\u001b[39m(img_tensor, bbox_pred, epoch):\n\u001b[1;32m     22\u001b[0m     im \u001b[38;5;241m=\u001b[39m img_tensor\u001b[38;5;241m.\u001b[39msqueeze(\u001b[38;5;241m0\u001b[39m)\u001b[38;5;241m.\u001b[39mpermute(\u001b[38;5;241m1\u001b[39m, \u001b[38;5;241m2\u001b[39m, \u001b[38;5;241m0\u001b[39m)\u001b[38;5;241m.\u001b[39mnumpy()\n\u001b[0;32m---> 24\u001b[0m     center_x_pxl, center_y_pxl \u001b[38;5;241m=\u001b[39m \u001b[43mcalculate_center_coordinates\u001b[49m\u001b[43m(\u001b[49m\u001b[43mim\u001b[49m\u001b[43m,\u001b[49m\u001b[43m \u001b[49m\u001b[43mbbox_pred\u001b[49m\u001b[43m)\u001b[49m\n\u001b[1;32m     25\u001b[0m     coords \u001b[38;5;241m=\u001b[39m calculate_box_dimensions(im, center_x_pxl, center_y_pxl, bbox_pred)\n\u001b[1;32m     27\u001b[0m     plt\u001b[38;5;241m.\u001b[39mimshow(im)\n",
      "Cell \u001b[0;32mIn[408], line 2\u001b[0m, in \u001b[0;36mcalculate_center_coordinates\u001b[0;34m(im, bbox_pred)\u001b[0m\n\u001b[1;32m      1\u001b[0m \u001b[38;5;28;01mdef\u001b[39;00m \u001b[38;5;21mcalculate_center_coordinates\u001b[39m(im, bbox_pred):\n\u001b[0;32m----> 2\u001b[0m     center_x_pxl \u001b[38;5;241m=\u001b[39m \u001b[38;5;28;43mint\u001b[39;49m\u001b[43m(\u001b[49m\u001b[38;5;28;43mlen\u001b[39;49m\u001b[43m(\u001b[49m\u001b[43mim\u001b[49m\u001b[43m[\u001b[49m\u001b[38;5;241;43m0\u001b[39;49m\u001b[43m]\u001b[49m\u001b[43m)\u001b[49m\u001b[43m \u001b[49m\u001b[38;5;241;43m*\u001b[39;49m\u001b[43m \u001b[49m\u001b[43mbbox_pred\u001b[49m\u001b[43m[\u001b[49m\u001b[38;5;241;43m0\u001b[39;49m\u001b[43m]\u001b[49m\u001b[43m)\u001b[49m \u001b[38;5;66;03m#img width * percent x\u001b[39;00m\n\u001b[1;32m      3\u001b[0m     center_y_pxl \u001b[38;5;241m=\u001b[39m \u001b[38;5;28mint\u001b[39m(\u001b[38;5;28mlen\u001b[39m(im) \u001b[38;5;241m*\u001b[39m bbox_pred[\u001b[38;5;241m1\u001b[39m]) \u001b[38;5;66;03m#img height * percent y\u001b[39;00m\n\u001b[1;32m      4\u001b[0m     \u001b[38;5;28;01mreturn\u001b[39;00m center_x_pxl, center_y_pxl\n",
      "\u001b[0;31mValueError\u001b[0m: only one element tensors can be converted to Python scalars"
     ]
    }
   ],
   "source": [
    "img_num = 65\n",
    "\n",
    "model_cpu = model.cpu()\n",
    "logits = (model_cpu(X_batch[img_num].cpu().unsqueeze(dim=0))).squeeze()\n",
    "visualize_prediction(X_batch[img_num].cpu(), logits.cpu(), 'N/A')\n",
    "visualize_prediction(X_batch[img_num].cpu(), y_batch[img_num].cpu(), 'N/A')\n",
    "\n",
    "criterion(logits,y_batch[img_num].cpu()).item()\n",
    "\n"
   ]
  },
  {
   "cell_type": "code",
   "execution_count": null,
   "metadata": {},
   "outputs": [],
   "source": [
    "# torch.save(model.state_dict(), \"bestt01.pt\")"
   ]
  },
  {
   "cell_type": "code",
   "execution_count": null,
   "metadata": {},
   "outputs": [],
   "source": [
    "X_me00 = torch.load('/home/kuba/Documents/data/raw/me-img/tensor/clear_side.pt')\n",
    "X_me01 = torch.load('/home/kuba/Documents/data/raw/me-img/tensor/clear_straighton.pt')\n",
    "X_me02 = torch.load('/home/kuba/Documents/data/raw/me-img/tensor/sun_hand.pt')\n",
    "X_me03 = torch.load('/home/kuba/Documents/data/raw/me-img/tensor/sun.pt')\n",
    "\n",
    "me_full = torch.stack((X_me00,X_me01, X_me02, X_me03))"
   ]
  },
  {
   "cell_type": "code",
   "execution_count": null,
   "metadata": {},
   "outputs": [
    {
     "data": {
      "text/plain": [
       "torch.Size([4, 3, 224, 224])"
      ]
     },
     "execution_count": 356,
     "metadata": {},
     "output_type": "execute_result"
    }
   ],
   "source": [
    "me_full.shape"
   ]
  },
  {
   "cell_type": "code",
   "execution_count": null,
   "metadata": {},
   "outputs": [
    {
     "name": "stderr",
     "output_type": "stream",
     "text": [
      "Clipping input data to the valid range for imshow with RGB data ([0..1] for floats or [0..255] for integers). Got range [-2.1174726..2.476566].\n"
     ]
    },
    {
     "data": {
      "image/png": "[encoded data removed]",
      "text/plain": [
       "<Figure size 640x480 with 1 Axes>"
      ]
     },
     "metadata": {},
     "output_type": "display_data"
    }
   ],
   "source": [
    "model_cpu = model.cpu()\n",
    "logits = (model_cpu(me_full[0].unsqueeze(dim=0))).squeeze()\n",
    "visualize_prediction(me_full[0].cpu(), logits.cpu(), 'N/A')\n"
   ]
  }
 ],
 "metadata": {
  "kernelspec": {
   "display_name": "base",
   "language": "python",
   "name": "python3"
  },
  "language_info": {
   "codemirror_mode": {
    "name": "ipython",
    "version": 3
   },
   "file_extension": ".py",
   "mimetype": "text/x-python",
   "name": "python",
   "nbconvert_exporter": "python",
   "pygments_lexer": "ipython3",
   "version": "3.10.12"
  }
 },
 "nbformat": 4,
 "nbformat_minor": 2
}
