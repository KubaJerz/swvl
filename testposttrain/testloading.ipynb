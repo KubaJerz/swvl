{
 "cells": [
  {
   "cell_type": "code",
   "execution_count": null,
   "metadata": {},
   "outputs": [],
   "source": [
    "import torch"
   ]
  },
  {
   "cell_type": "markdown",
   "metadata": {},
   "source": [
    "# 1 Define the Model\n",
    "\n",
    "If you want to use outside of a notebook then save the bellow model def in a `.py` file\n",
    "\n",
    "The in the main file `from filename.py import FaceDetector`"
   ]
  },
  {
   "cell_type": "code",
   "execution_count": 3,
   "metadata": {},
   "outputs": [
    {
     "name": "stderr",
     "output_type": "stream",
     "text": [
      "/home/kuba/.virenv/base/lib/python3.10/site-packages/torchvision/models/_utils.py:208: UserWarning: The parameter 'pretrained' is deprecated since 0.13 and may be removed in the future, please use 'weights' instead.\n",
      "  warnings.warn(\n",
      "/home/kuba/.virenv/base/lib/python3.10/site-packages/torchvision/models/_utils.py:223: UserWarning: Arguments other than a weight enum or `None` for 'weights' are deprecated since 0.13 and may be removed in the future. The current behavior is equivalent to passing `weights=ResNet50_Weights.IMAGENET1K_V1`. You can also use `weights=ResNet50_Weights.DEFAULT` to get the most up-to-date weights.\n",
      "  warnings.warn(msg)\n"
     ]
    }
   ],
   "source": [
    "import torchvision\n",
    "import torch\n",
    "import torch.nn as nn\n",
    "\n",
    "backbone = torchvision.models.resnet50(pretrained=True)\n",
    "# we will not use the last 3 layer of the resnet\n",
    "# so backbone outpput will be 14x14\n",
    "backbone_features = torch.nn.Sequential(*(list(backbone.children())[:-3])) \n",
    "\n",
    "class SingleFaceRegressionHead(nn.Module):\n",
    "    def __init__(self, in_channels, hidden_dim=256):\n",
    "        super(SingleFaceRegressionHead, self).__init__()\n",
    "        \n",
    "        self.conv1 = nn.Conv2d(in_channels, hidden_dim, kernel_size=3, padding=1)\n",
    "        self.act1 = nn.ReLU(inplace=True)\n",
    "        self.conv2 = nn.Conv2d(hidden_dim, 1, kernel_size=1)\n",
    "        \n",
    "        \n",
    "        self.bbox_reg = nn.Linear(196, 4)\n",
    "        \n",
    "        self._initialize_weights()\n",
    "    \n",
    "    def forward(self, x):\n",
    "        x = self.act1(self.conv1(x))\n",
    "        x = self.conv2(x)\n",
    "\n",
    "        x = torch.flatten(x, start_dim=2)        \n",
    "        bbox = self.bbox_reg(x) \n",
    "        \n",
    "        return bbox\n",
    "    \n",
    "    def _initialize_weights(self):\n",
    "        for m in self.modules():\n",
    "            if isinstance(m, nn.Conv2d):\n",
    "                nn.init.normal_(m.weight, std=0.01)\n",
    "                if m.bias is not None:\n",
    "                    nn.init.constant_(m.bias, 0)\n",
    "            elif isinstance(m, nn.Linear):\n",
    "                nn.init.normal_(m.weight, std=0.01)\n",
    "                nn.init.constant_(m.bias, 0)\n",
    "\n",
    "class FaceDetector(nn.Module):\n",
    "    def __init__(self):\n",
    "        super(FaceDetector, self).__init__()\n",
    "        self.backbone = backbone_features\n",
    "        \n",
    "        self.regression_head = SingleFaceRegressionHead(1024,1024)\n",
    "\n",
    "    def forward(self, x):\n",
    "        features = self.backbone(x)\n",
    "        bbox_pred = self.regression_head(features)\n",
    "        \n",
    "        return bbox_pred\n"
   ]
  },
  {
   "cell_type": "markdown",
   "metadata": {},
   "source": [
    "# 2 init the model"
   ]
  },
  {
   "cell_type": "code",
   "execution_count": 7,
   "metadata": {},
   "outputs": [
    {
     "data": {
      "text/plain": [
       "<All keys matched successfully>"
      ]
     },
     "execution_count": 7,
     "metadata": {},
     "output_type": "execute_result"
    }
   ],
   "source": [
    "path_to_saved_model = '/home/kuba/projects/swvl/testposttrain/bestt01.pt'\n",
    "model = FaceDetector()\n",
    "model.load_state_dict(torch.load(path_to_saved_model, weights_only=True))\n"
   ]
  },
  {
   "cell_type": "markdown",
   "metadata": {},
   "source": [
    "NOW you can use the model !"
   ]
  },
  {
   "cell_type": "markdown",
   "metadata": {},
   "source": [
    "# 3 NOTE\n",
    "Before using the modle note two things:\n",
    "- How input must be structured\n",
    "    - The pre process \n",
    "    - The Batch Dimension"
   ]
  },
  {
   "cell_type": "markdown",
   "metadata": {},
   "source": [
    "### Batch Dim"
   ]
  },
  {
   "cell_type": "code",
   "execution_count": 8,
   "metadata": {},
   "outputs": [
    {
     "data": {
      "text/plain": [
       "torch.Size([3, 224, 224])"
      ]
     },
     "execution_count": 8,
     "metadata": {},
     "output_type": "execute_result"
    }
   ],
   "source": [
    "test = torch.load('/home/kuba/Documents/data/raw/me-img/tensor/clear_straighton.pt')\n",
    "test.shape"
   ]
  },
  {
   "cell_type": "code",
   "execution_count": 9,
   "metadata": {},
   "outputs": [
    {
     "data": {
      "text/plain": [
       "torch.Size([1, 3, 224, 224])"
      ]
     },
     "execution_count": 9,
     "metadata": {},
     "output_type": "execute_result"
    }
   ],
   "source": [
    "# it is missing the batch dim so we will have error\n",
    "# we must add batch dim\n",
    "test = test.unsqueeze(dim=0)\n",
    "test.shape"
   ]
  },
  {
   "cell_type": "markdown",
   "metadata": {},
   "source": [
    "### The pre process"
   ]
  },
  {
   "cell_type": "code",
   "execution_count": null,
   "metadata": {},
   "outputs": [],
   "source": [
    "#inputs must be tensors and be 224x224\n",
    "#its also recommender they are normalized to how the model was trained\n",
    "from torchvision import transforms\n",
    "from PIL import Image\n",
    "import torch\n",
    "\n",
    "\n",
    "f_img = f'/home/kuba/Documents/data/raw/me-img/raw/sun.jpeg'\n",
    "name = 'sun'\n",
    "\n",
    "transform = transforms.Compose([\n",
    "    transforms.ToTensor(),\n",
    "    transforms.Resize((224,224), antialias=True)  # Resize all images to same dimensions\n",
    "])\n",
    "\n",
    "transform_normal =  transforms.Normalize(mean=[0.485, 0.456, 0.406], std=[0.229, 0.224, 0.225])\n",
    "\n",
    "img = Image.open(f_img)\n",
    "img_tensor = transform(img) #you must\n",
    "img_tensor = transform_normal(img_tensor) #optional\n",
    "\n",
    "torch.save(img_tensor, f'/home/path/to/go/{name}.pt')"
   ]
  },
  {
   "cell_type": "markdown",
   "metadata": {},
   "source": [
    "# 4 Using the model"
   ]
  },
  {
   "cell_type": "code",
   "execution_count": 12,
   "metadata": {},
   "outputs": [
    {
     "data": {
      "text/plain": [
       "tensor([[[0.4962, 0.3899, 0.4162, 0.5635]]])"
      ]
     },
     "execution_count": 12,
     "metadata": {},
     "output_type": "execute_result"
    }
   ],
   "source": [
    "#this can be done as such \n",
    "with torch.no_grad():\n",
    "    res = model(test)\n",
    "\n",
    "res"
   ]
  },
  {
   "cell_type": "markdown",
   "metadata": {},
   "source": [
    "The output is x(center), y(center), width, height"
   ]
  }
 ],
 "metadata": {
  "kernelspec": {
   "display_name": "base",
   "language": "python",
   "name": "python3"
  },
  "language_info": {
   "codemirror_mode": {
    "name": "ipython",
    "version": 3
   },
   "file_extension": ".py",
   "mimetype": "text/x-python",
   "name": "python",
   "nbconvert_exporter": "python",
   "pygments_lexer": "ipython3",
   "version": "3.10.12"
  }
 },
 "nbformat": 4,
 "nbformat_minor": 2
}
